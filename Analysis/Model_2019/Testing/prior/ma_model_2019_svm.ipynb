{
 "cells": [
  {
   "cell_type": "code",
   "execution_count": 1,
   "metadata": {},
   "outputs": [],
   "source": [
    "# load dependencies\n",
    "import matplotlib.pyplot as plt\n",
    "import numpy as np\n",
    "import pandas as pd\n",
    "from sklearn.preprocessing import LabelEncoder\n",
    "from sklearn.svm import SVC\n",
    "\n",
    "import random"
   ]
  },
  {
   "cell_type": "code",
   "execution_count": 2,
   "metadata": {},
   "outputs": [],
   "source": [
    "def SVM(d,f,my_seed):\n",
    "    np.random.seed(my_seed)\n",
    "    random.seed(my_seed)\n",
    "    \n",
    "    model = SVC(kernel='poly',gamma='auto',C=.25)\n",
    "    model.fit(d, f)\n",
    "    return model"
   ]
  },
  {
   "cell_type": "code",
   "execution_count": 3,
   "metadata": {},
   "outputs": [],
   "source": [
    "# read data\n",
    "df = pd.read_csv('Data/combined_2019.csv')\n",
    "del df['sentiment']\n",
    "begin_drop = 91\n",
    "end_drop = 101\n",
    "begin = 67\n",
    "end = 91"
   ]
  },
  {
   "cell_type": "code",
   "execution_count": 4,
   "metadata": {},
   "outputs": [],
   "source": [
    "# create moving averages\n",
    "for i in range(31):\n",
    "    colname = 'ma' + str(i+1)\n",
    "    df[colname] = df.iloc[:,(i+8):(i+18)].sum(axis=1)\n",
    "\n",
    "df.drop(df.columns[begin_drop:end_drop], axis=1, inplace=True)"
   ]
  },
  {
   "cell_type": "code",
   "execution_count": 5,
   "metadata": {},
   "outputs": [],
   "source": [
    "# Select trainging hour and test hour\n",
    "data = df[df['hour'].isin([6,7,8])]\n",
    "del df"
   ]
  },
  {
   "cell_type": "code",
   "execution_count": 6,
   "metadata": {
    "scrolled": false
   },
   "outputs": [],
   "source": [
    "# Categorize the 'sum' column the number of PIPs over selected range\n",
    "def setlabels(x):\n",
    "    if x < -5:\n",
    "        return -1\n",
    "    elif x > 5:\n",
    "        return 1\n",
    "    else:\n",
    "        return 0\n",
    "\n",
    "data[\"labels\"] = data[\"ma31\"].apply(setlabels)"
   ]
  },
  {
   "cell_type": "code",
   "execution_count": 7,
   "metadata": {
    "scrolled": false
   },
   "outputs": [
    {
     "name": "stdout",
     "output_type": "stream",
     "text": [
      "Est Profit Cohort 0: 317.80000000000007\n",
      "Est Profit Cohort 1: 65.6\n",
      "Est Profit Cohort 2: 24.89999999999997\n",
      "Est Profit Cohort 3: -247.20000000000005\n",
      "Est Profit Cohort 4: 101.20000000000003\n",
      "Est Profit Cohort 5: -55.60000000000002\n",
      "Est Profit Cohort 6: -104.6\n",
      "Est Profit Cohort 7: 119.49999999999997\n",
      "Est Profit Cohort 8: 25.999999999999993\n",
      "Est Profit Cohort 9: 63.4\n",
      "Est Profit Cohort 10: 173.39999999999998\n",
      "Est Profit Cohort 11: 19.000000000000004\n",
      "Est Profit Cohort 12: 94.99999999999999\n",
      "Est Profit Cohort 13: -96.39999999999998\n",
      "Est Profit Cohort 14: 9.8\n",
      "Est Profit Cohort 15: -80.80000000000001\n",
      "Est Profit Cohort 16: -88.49999999999999\n",
      "Est Profit Cohort 17: -2.9999999999999853\n",
      "Est Profit Cohort 18: -61.80000000000002\n",
      "Est Profit Cohort 19: -52.89999999999999\n",
      "Est Profit Cohort 20: 4.099999999999994\n",
      "Est Profit Cohort 21: -38.6\n",
      "Est Profit Cohort 22: -81.19999999999999\n",
      "Est Profit Cohort 23: 11.799999999999997\n",
      "Est Profit Cohort 24: 77.60000000000002\n",
      "Est Profit Cohort 25: 71.9\n",
      "Est Profit Cohort 26: 75.89999999999998\n",
      "Est Profit Cohort 27: 2.5000000000000053\n",
      "Est Profit Cohort 28: -80.2\n",
      "Est Profit Cohort 29: -74.4\n",
      "Est Profit Cohort 30: -5.399999999999992\n",
      "Est Profit Cohort 31: 4.799999999999998\n",
      "Est Profit Cohort 32: 128.3\n",
      "Est Profit Cohort 33: -102.49999999999999\n",
      "Est Profit Cohort 34: -140.59999999999997\n",
      "Est Profit Cohort 35: 71.2\n",
      "Est Profit Cohort 36: -28.1\n",
      "Est Profit Cohort 37: 24.299999999999994\n",
      "Est Profit Cohort 38: -25.800000000000004\n",
      "Est Profit Cohort 39: 54.6\n",
      "Est Profit Cohort 40: 40.7\n",
      "Est Profit Cohort 41: 9.400000000000002\n",
      "Est Profit Cohort 42: -9.89999999999999\n",
      "Est Profit Cohort 43: 214.00000000000003\n",
      "Est Profit Cohort 44: -110.4\n",
      "Est Profit Cohort 45: 85.5\n",
      "Est Profit Cohort 46: 50.60000000000001\n",
      "Est Profit Cohort 47: 2.6999999999999957\n",
      "Est Profit Cohort 48: -2.000000000000003\n",
      "Est Profit Cohort 49: 52.2\n",
      "Est Profit Cohort 50: 69.6\n",
      "Est Profit Cohort 51: -239.59999999999997\n",
      "Est Profit Cohort 52: -75.10000000000001\n",
      "Est Profit Cohort 53: -72.30000000000001\n",
      "Est Profit Cohort 54: -3.700000000000009\n",
      "Est Profit Cohort 55: -56.50000000000002\n",
      "Est Profit Cohort 56: -31.3\n",
      "Est Profit Cohort 57: -62.00000000000001\n",
      "Est Profit Cohort 58: -125.79999999999998\n",
      "Est Profit Cohort 59: 27.199999999999978\n",
      "Est Profit Cohort 60: 62.000000000000014\n",
      "Est Profit Cohort 61: 52.2\n",
      "Est Profit Cohort 62: 90.59999999999998\n",
      "Est Profit Cohort 63: -20.7\n",
      "Est Profit Cohort 64: -24.4\n",
      "Est Profit Cohort 65: 34.50000000000001\n",
      "Est Profit Cohort 66: -28.400000000000013\n",
      "Est Profit Cohort 67: 48.19999999999999\n",
      "Est Profit Cohort 68: -95.4\n",
      "Est Profit Cohort 69: 2.700000000000009\n",
      "Est Profit Cohort 70: 25.800000000000008\n",
      "Est Profit Cohort 71: -105.0\n",
      "Est Profit Cohort 72: -9.9\n",
      "Est Profit Cohort 73: 36.099999999999994\n",
      "Est Profit Cohort 74: 4.3000000000000105\n",
      "Est Profit Cohort 75: 132.99999999999997\n",
      "Est Profit Cohort 76: -44.10000000000001\n",
      "Total Profit  : 99.80000000000011\n"
     ]
    }
   ],
   "source": [
    "profit_tot =[]\n",
    "train_int = 1000\n",
    "predict_int = 500\n",
    "count = int((data.shape[0] - train_int) / predict_int)\n",
    "\n",
    "df_predict = pd.DataFrame()\n",
    "#df_predict = data.iloc[0:train_int+100].copy()\n",
    "#df_predict['class'] = 0\n",
    "\n",
    "for j in range(count):\n",
    "    \n",
    "    start = predict_int * j\n",
    "\n",
    "    # Get fitting data\n",
    "    X_data = data.iloc[start:start + train_int].copy()\n",
    "    X = X_data.iloc[:,begin:end].to_numpy()\n",
    "    y = data['labels'].iloc[start:start+train_int]\n",
    "    le = LabelEncoder()\n",
    "    le.fit(y)\n",
    "    y_encoded = le.transform(y)\n",
    "\n",
    "    svm = SVM(X, y_encoded, 49)\n",
    "\n",
    "    # Get predicting data\n",
    "    X_pred = data.iloc[start + train_int + 100:start + train_int + predict_int + 100].copy()\n",
    "    X_predict = X_pred.iloc[:,begin:end].to_numpy()\n",
    "    X_pred['class'] = le.inverse_transform(svm.predict(X_predict))\n",
    "    X_pred = X_pred.drop(X_pred[(X_pred['class'] == 0)].index)\n",
    "    df_predict = df_predict.append(X_pred)\n",
    "    \n",
    "    X_pred['profit'] = X_pred['class'] * X_pred['ma31']\n",
    "    \n",
    "    profit = X_pred['profit'].sum()\n",
    "    print(\"Est Profit Cohort \" + str(j) + \": \" + str(profit))\n",
    "    profit_tot.append(profit)\n",
    "\n",
    "print(\"Total Profit \" + \" : \" + str(sum(profit_tot)))"
   ]
  },
  {
   "cell_type": "code",
   "execution_count": 8,
   "metadata": {},
   "outputs": [],
   "source": [
    "df_predict.to_csv('2019_predict_5_svm.csv')"
   ]
  },
  {
   "cell_type": "code",
   "execution_count": null,
   "metadata": {},
   "outputs": [],
   "source": []
  }
 ],
 "metadata": {
  "kernelspec": {
   "display_name": "Python 36 (PythonData)",
   "language": "python",
   "name": "pythondata"
  },
  "language_info": {
   "codemirror_mode": {
    "name": "ipython",
    "version": 3
   },
   "file_extension": ".py",
   "mimetype": "text/x-python",
   "name": "python",
   "nbconvert_exporter": "python",
   "pygments_lexer": "ipython3",
   "version": "3.6.8"
  }
 },
 "nbformat": 4,
 "nbformat_minor": 2
}
