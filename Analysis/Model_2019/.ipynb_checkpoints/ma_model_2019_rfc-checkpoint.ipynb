{
 "cells": [
  {
   "cell_type": "code",
   "execution_count": 1,
   "metadata": {},
   "outputs": [],
   "source": [
    "# load dependencies\n",
    "import matplotlib.pyplot as plt\n",
    "import numpy as np\n",
    "import pandas as pd\n",
    "from sklearn.preprocessing import LabelEncoder\n",
    "from sklearn.ensemble import RandomForestClassifier\n",
    "\n",
    "import random"
   ]
  },
  {
   "cell_type": "code",
   "execution_count": 2,
   "metadata": {},
   "outputs": [],
   "source": [
    "def RFC(d,f,my_seed):\n",
    "    np.random.seed(my_seed)\n",
    "    random.seed(my_seed)\n",
    "    \n",
    "    model = RandomForestClassifier(n_estimators=50)\n",
    "    model.fit(d, f)\n",
    "    return model"
   ]
  },
  {
   "cell_type": "code",
   "execution_count": 3,
   "metadata": {},
   "outputs": [],
   "source": [
    "# read data\n",
    "df = pd.read_csv('Data/combined_2019.csv')\n",
    "del df['sentiment']\n",
    "begin_drop = 91\n",
    "end_drop = 101\n",
    "begin = 67\n",
    "end = 91"
   ]
  },
  {
   "cell_type": "code",
   "execution_count": 4,
   "metadata": {},
   "outputs": [],
   "source": [
    "# create moving averages\n",
    "for i in range(31):\n",
    "    colname = 'ma' + str(i+1)\n",
    "    df[colname] = df.iloc[:,(i+8):(i+18)].sum(axis=1)\n",
    "\n",
    "df.drop(df.columns[begin_drop:end_drop], axis=1, inplace=True)"
   ]
  },
  {
   "cell_type": "code",
   "execution_count": 5,
   "metadata": {},
   "outputs": [],
   "source": [
    "# Select trainging hour and test hour\n",
    "data = df[df['hour'].isin([6,7,8])]\n",
    "del df"
   ]
  },
  {
   "cell_type": "code",
   "execution_count": 6,
   "metadata": {
    "scrolled": false
   },
   "outputs": [],
   "source": [
    "# Categorize the 'sum' column the number of PIPs over selected range\n",
    "def setlabels(x):\n",
    "    if x < -5:\n",
    "        return -1\n",
    "    elif x > 5:\n",
    "        return 1\n",
    "    else:\n",
    "        return 0\n",
    "\n",
    "data[\"labels\"] = data[\"ma31\"].apply(setlabels)"
   ]
  },
  {
   "cell_type": "code",
   "execution_count": 7,
   "metadata": {
    "scrolled": false
   },
   "outputs": [
    {
     "name": "stdout",
     "output_type": "stream",
     "text": [
      "Est Profit Cohort 0: 191.7\n",
      "Est Profit Cohort 1: 16.200000000000003\n",
      "Est Profit Cohort 2: -1.3999999999999986\n",
      "Est Profit Cohort 3: 56.3\n",
      "Est Profit Cohort 4: -51.5\n",
      "Est Profit Cohort 5: 33.5\n",
      "Est Profit Cohort 6: -3.0999999999999983\n",
      "Est Profit Cohort 7: 8.5\n",
      "Est Profit Cohort 8: -13.100000000000001\n",
      "Est Profit Cohort 9: -1.2000000000000006\n",
      "Est Profit Cohort 10: -79.8\n",
      "Est Profit Cohort 11: -32.9\n",
      "Est Profit Cohort 12: -66.19999999999999\n",
      "Est Profit Cohort 13: 2.4000000000000004\n",
      "Est Profit Cohort 14: 0.0\n",
      "Est Profit Cohort 15: -1.4000000000000004\n",
      "Est Profit Cohort 16: -18.800000000000008\n",
      "Est Profit Cohort 17: 31.900000000000002\n",
      "Est Profit Cohort 18: 30.1\n",
      "Est Profit Cohort 19: 0.0\n",
      "Est Profit Cohort 20: -40.8\n",
      "Est Profit Cohort 21: -90.99999999999999\n",
      "Est Profit Cohort 22: -17.599999999999994\n",
      "Est Profit Cohort 23: 0.0\n",
      "Est Profit Cohort 24: -26.100000000000005\n",
      "Est Profit Cohort 25: -56.199999999999996\n",
      "Est Profit Cohort 26: -0.6999999999999984\n",
      "Est Profit Cohort 27: -9.799999999999999\n",
      "Est Profit Cohort 28: -0.9999999999999987\n",
      "Est Profit Cohort 29: 45.90000000000003\n",
      "Est Profit Cohort 30: 0.0\n",
      "Est Profit Cohort 31: -7.9\n",
      "Est Profit Cohort 32: 0.0\n",
      "Est Profit Cohort 33: 3.2000000000000037\n",
      "Est Profit Cohort 34: -11.2\n",
      "Est Profit Cohort 35: -60.8\n",
      "Est Profit Cohort 36: 5.49999999999999\n",
      "Est Profit Cohort 37: 7.199999999999999\n",
      "Est Profit Cohort 38: 0.0\n",
      "Est Profit Cohort 39: 0.0\n",
      "Est Profit Cohort 40: -2.0\n",
      "Est Profit Cohort 41: -3.799999999999998\n",
      "Est Profit Cohort 42: 6.3\n",
      "Est Profit Cohort 43: -9.7\n",
      "Est Profit Cohort 44: -7.6\n",
      "Est Profit Cohort 45: -63.300000000000004\n",
      "Est Profit Cohort 46: 61.2\n",
      "Est Profit Cohort 47: -0.10000000000000064\n",
      "Est Profit Cohort 48: 0.0\n",
      "Est Profit Cohort 49: 0.0\n",
      "Est Profit Cohort 50: -51.10000000000001\n",
      "Est Profit Cohort 51: 20.400000000000002\n",
      "Est Profit Cohort 52: -2.1\n",
      "Est Profit Cohort 53: -27.200000000000003\n",
      "Est Profit Cohort 54: 0.0\n",
      "Est Profit Cohort 55: -52.699999999999996\n",
      "Est Profit Cohort 56: -0.5000000000000001\n",
      "Est Profit Cohort 57: -6.0\n",
      "Est Profit Cohort 58: -33.3\n",
      "Est Profit Cohort 59: -120.59999999999998\n",
      "Est Profit Cohort 60: 6.600000000000006\n",
      "Est Profit Cohort 61: -0.49999999999999983\n",
      "Est Profit Cohort 62: -0.39999999999999925\n",
      "Est Profit Cohort 63: 0.0\n",
      "Est Profit Cohort 64: 10.199999999999996\n",
      "Est Profit Cohort 65: -2.799999999999999\n",
      "Est Profit Cohort 66: 10.700000000000001\n",
      "Est Profit Cohort 67: 53.39999999999999\n",
      "Est Profit Cohort 68: -6.0\n",
      "Est Profit Cohort 69: 11.6\n",
      "Est Profit Cohort 70: 18.800000000000004\n",
      "Est Profit Cohort 71: -3.7\n",
      "Est Profit Cohort 72: -6.899999999999999\n",
      "Est Profit Cohort 73: -39.900000000000006\n",
      "Est Profit Cohort 74: 4.700000000000001\n",
      "Est Profit Cohort 75: 19.199999999999996\n",
      "Est Profit Cohort 76: 22.5\n",
      "Total Profit  : -354.69999999999993\n"
     ]
    }
   ],
   "source": [
    "profit_tot =[]\n",
    "train_int = 1000\n",
    "predict_int = 500\n",
    "count = int((data.shape[0] - train_int) / predict_int)\n",
    "\n",
    "df_predict = pd.DataFrame()\n",
    "#df_predict = data.iloc[0:train_int+100].copy()\n",
    "#df_predict['class'] = 0\n",
    "\n",
    "for j in range(count):\n",
    "    \n",
    "    start = predict_int * j\n",
    "\n",
    "    # Get fitting data\n",
    "    X_data = data.iloc[start:start + train_int].copy()\n",
    "    X = X_data.iloc[:,begin:end].to_numpy()\n",
    "    y = data['labels'].iloc[start:start+train_int]\n",
    "    le = LabelEncoder()\n",
    "    le.fit(y)\n",
    "    y_encoded = le.transform(y)\n",
    "\n",
    "    rfc = RFC(X, y_encoded, 49)\n",
    "\n",
    "    # Get predicting data\n",
    "    X_pred = data.iloc[start + train_int + 100:start + train_int + predict_int + 100].copy()\n",
    "    X_predict = X_pred.iloc[:,begin:end].to_numpy()\n",
    "    X_pred['class'] = le.inverse_transform(rfc.predict(X_predict))\n",
    "    X_pred = X_pred.drop(X_pred[(X_pred['class'] == 0)].index)\n",
    "    df_predict = df_predict.append(X_pred)\n",
    "    \n",
    "    X_pred['profit'] = X_pred['class'] * X_pred['ma31']\n",
    "    \n",
    "    profit = X_pred['profit'].sum()\n",
    "    print(\"Est Profit Cohort \" + str(j) + \": \" + str(profit))\n",
    "    profit_tot.append(profit)\n",
    "\n",
    "print(\"Total Profit \" + \" : \" + str(sum(profit_tot)))"
   ]
  },
  {
   "cell_type": "code",
   "execution_count": 8,
   "metadata": {},
   "outputs": [],
   "source": [
    "df_predict.to_csv('2019_predict_5_rfc.csv')"
   ]
  },
  {
   "cell_type": "code",
   "execution_count": null,
   "metadata": {},
   "outputs": [],
   "source": []
  }
 ],
 "metadata": {
  "kernelspec": {
   "display_name": "Python 36 (PythonData)",
   "language": "python",
   "name": "pythondata"
  },
  "language_info": {
   "codemirror_mode": {
    "name": "ipython",
    "version": 3
   },
   "file_extension": ".py",
   "mimetype": "text/x-python",
   "name": "python",
   "nbconvert_exporter": "python",
   "pygments_lexer": "ipython3",
   "version": "3.6.8"
  }
 },
 "nbformat": 4,
 "nbformat_minor": 2
}
