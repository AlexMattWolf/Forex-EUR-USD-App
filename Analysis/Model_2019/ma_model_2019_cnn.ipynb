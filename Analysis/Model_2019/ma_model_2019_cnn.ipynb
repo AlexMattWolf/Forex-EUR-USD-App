{
 "cells": [
  {
   "cell_type": "code",
   "execution_count": 1,
   "metadata": {},
   "outputs": [
    {
     "name": "stderr",
     "output_type": "stream",
     "text": [
      "Using TensorFlow backend.\n"
     ]
    }
   ],
   "source": [
    "# load dependencies\n",
    "import matplotlib.pyplot as plt\n",
    "import numpy as np\n",
    "import pandas as pd\n",
    "from sklearn.preprocessing import LabelEncoder\n",
    "from keras.utils import to_categorical\n",
    "from tensorflow.keras.models import Sequential\n",
    "from tensorflow.keras.layers import Dense\n",
    "\n",
    "import random\n",
    "import tensorflow as tf"
   ]
  },
  {
   "cell_type": "code",
   "execution_count": 2,
   "metadata": {},
   "outputs": [],
   "source": [
    "def CNN(d,f,e, my_seed):\n",
    "    np.random.seed(my_seed)\n",
    "    random.seed(my_seed)\n",
    "    tf.random.set_seed(my_seed)\n",
    "\n",
    "    y = to_categorical(f)\n",
    "    \n",
    "    model = Sequential()\n",
    "    model.add(Dense(units=50, activation='relu', input_dim=d.shape[1]))\n",
    "    model.add(Dense(units=50, activation='relu'))\n",
    "    model.add(Dense(units=y.shape[1], activation='softmax'))\n",
    "    model.compile(optimizer='adam', loss='categorical_crossentropy', metrics=['accuracy'])\n",
    "    model.fit(d, y, epochs=e, shuffle=True, verbose=0)\n",
    "    return model"
   ]
  },
  {
   "cell_type": "code",
   "execution_count": 3,
   "metadata": {},
   "outputs": [],
   "source": [
    "# read data\n",
    "df = pd.read_csv('Data/combined_2019.csv')\n",
    "del df['sentiment']\n",
    "begin_drop = 91\n",
    "end_drop = 101\n",
    "begin = 67\n",
    "end = 91"
   ]
  },
  {
   "cell_type": "code",
   "execution_count": 4,
   "metadata": {},
   "outputs": [],
   "source": [
    "# create moving averages\n",
    "for i in range(31):\n",
    "    colname = 'ma' + str(i+1)\n",
    "    df[colname] = df.iloc[:,(i+8):(i+18)].sum(axis=1)\n",
    "\n",
    "df.drop(df.columns[begin_drop:end_drop], axis=1, inplace=True)"
   ]
  },
  {
   "cell_type": "code",
   "execution_count": 5,
   "metadata": {},
   "outputs": [],
   "source": [
    "# Select trainging hour and test hour\n",
    "data = df[df['hour'].isin([6,7,8])]\n",
    "del df"
   ]
  },
  {
   "cell_type": "code",
   "execution_count": 6,
   "metadata": {
    "scrolled": false
   },
   "outputs": [],
   "source": [
    "# Categorize the 'sum' column the number of PIPs over selected range\n",
    "def setlabels(x):\n",
    "    if x < -5:\n",
    "        return -1\n",
    "    elif x > 5:\n",
    "        return 1\n",
    "    else:\n",
    "        return 0\n",
    "\n",
    "data[\"labels\"] = data[\"ma31\"].apply(setlabels)"
   ]
  },
  {
   "cell_type": "code",
   "execution_count": 7,
   "metadata": {
    "scrolled": false
   },
   "outputs": [
    {
     "name": "stdout",
     "output_type": "stream",
     "text": [
      "Est Profit Cohort 0: 31.499999999999982\n",
      "Est Profit Cohort 1: 175.4\n",
      "Est Profit Cohort 2: 156.29999999999995\n",
      "Est Profit Cohort 3: -17.000000000000004\n",
      "Est Profit Cohort 4: -40.49999999999999\n",
      "Est Profit Cohort 5: 109.29999999999998\n",
      "Est Profit Cohort 6: 1.9999999999999938\n",
      "Est Profit Cohort 7: 81.69999999999999\n",
      "Est Profit Cohort 8: -63.30000000000001\n",
      "Est Profit Cohort 9: 40.99999999999999\n",
      "Est Profit Cohort 10: 0.2000000000000055\n",
      "Est Profit Cohort 11: -40.7\n",
      "Est Profit Cohort 12: 15.500000000000005\n",
      "Est Profit Cohort 13: -21.700000000000003\n",
      "Est Profit Cohort 14: 0.8000000000000007\n",
      "Est Profit Cohort 15: 0.0\n",
      "Est Profit Cohort 16: -3.700000000000003\n",
      "Est Profit Cohort 17: 21.30000000000002\n",
      "Est Profit Cohort 18: -33.3\n",
      "Est Profit Cohort 19: -11.9\n",
      "Est Profit Cohort 20: -10.400000000000002\n",
      "Est Profit Cohort 21: -10.7\n",
      "Est Profit Cohort 22: 10.200000000000003\n",
      "Est Profit Cohort 23: 5.9\n",
      "Est Profit Cohort 24: -21.800000000000004\n",
      "Est Profit Cohort 25: 1.400000000000002\n",
      "Est Profit Cohort 26: 6.299999999999993\n",
      "Est Profit Cohort 27: 3.6999999999999997\n",
      "Est Profit Cohort 28: 4.299999999999999\n",
      "Est Profit Cohort 29: 0.0\n",
      "Est Profit Cohort 30: -5.9\n",
      "Est Profit Cohort 31: -5.4\n",
      "Est Profit Cohort 32: 0.0\n",
      "Est Profit Cohort 33: 0.0\n",
      "Est Profit Cohort 34: -1.7999999999999976\n",
      "Est Profit Cohort 35: 2.0\n",
      "Est Profit Cohort 36: -0.6999999999999997\n",
      "Est Profit Cohort 37: 0.0\n",
      "Est Profit Cohort 38: -4.199999999999999\n",
      "Est Profit Cohort 39: 1.8000000000000007\n",
      "Est Profit Cohort 40: 0.0\n",
      "Est Profit Cohort 41: 0.0\n",
      "Est Profit Cohort 42: 0.0\n",
      "Est Profit Cohort 43: 0.0\n",
      "Est Profit Cohort 44: 46.4\n",
      "Est Profit Cohort 45: 42.10000000000001\n",
      "Est Profit Cohort 46: -6.499999999999998\n",
      "Est Profit Cohort 47: -0.7999999999999985\n",
      "Est Profit Cohort 48: 0.0\n",
      "Est Profit Cohort 49: 0.0\n",
      "Est Profit Cohort 50: 0.0\n",
      "Est Profit Cohort 51: -3.4999999999999996\n",
      "Est Profit Cohort 52: -2.4000000000000004\n",
      "Est Profit Cohort 53: -3.5999999999999996\n",
      "Est Profit Cohort 54: 0.0\n",
      "Est Profit Cohort 55: 0.0\n",
      "Est Profit Cohort 56: -1.3\n",
      "Est Profit Cohort 57: -9.299999999999999\n",
      "Est Profit Cohort 58: 0.0\n",
      "Est Profit Cohort 59: 0.0\n",
      "Est Profit Cohort 60: -41.70000000000001\n",
      "Est Profit Cohort 61: 52.20000000000001\n",
      "Est Profit Cohort 62: 1.2000000000000002\n",
      "Est Profit Cohort 63: 0.0\n",
      "Est Profit Cohort 64: 0.0\n",
      "Est Profit Cohort 65: 0.0\n",
      "Est Profit Cohort 66: 0.0\n",
      "Est Profit Cohort 67: 0.0\n",
      "Est Profit Cohort 68: 11.2\n",
      "Est Profit Cohort 69: 17.299999999999997\n",
      "Est Profit Cohort 70: 18.1\n",
      "Est Profit Cohort 71: 0.0\n",
      "Est Profit Cohort 72: 0.8999999999999999\n",
      "Est Profit Cohort 73: 6.3\n",
      "Est Profit Cohort 74: 20.0\n",
      "Est Profit Cohort 75: 34.5\n",
      "Est Profit Cohort 76: 9.799999999999999\n",
      "Total Profit  : 568.4999999999999\n"
     ]
    }
   ],
   "source": [
    "profit_tot =[]\n",
    "train_int = 1000\n",
    "predict_int = 500\n",
    "count = int((data.shape[0] - train_int) / predict_int)\n",
    "\n",
    "df_predict = pd.DataFrame()\n",
    "#df_predict = data.iloc[0:train_int+100].copy()\n",
    "#df_predict['class'] = 0\n",
    "\n",
    "for j in range(count):\n",
    "    \n",
    "    start = predict_int * j\n",
    "\n",
    "    # Get fitting data\n",
    "    X_data = data.iloc[start:start + train_int].copy()\n",
    "    X = X_data.iloc[:,begin:end].to_numpy()\n",
    "    y = data['labels'].iloc[start:start+train_int]\n",
    "    le = LabelEncoder()\n",
    "    le.fit(y)\n",
    "    y_encoded = le.transform(y)\n",
    "\n",
    "    cnn = CNN(X, y_encoded, 1, 49)\n",
    "\n",
    "    # Get predicting data\n",
    "    X_pred = data.iloc[start + train_int + 100:start + train_int + predict_int + 100].copy()\n",
    "    X_predict = X_pred.iloc[:,begin:end].to_numpy()\n",
    "    X_pred['class'] = le.inverse_transform(cnn.predict_classes(X_predict))\n",
    "    X_pred = X_pred.drop(X_pred[(X_pred['class'] == 0)].index)\n",
    "    df_predict = df_predict.append(X_pred)\n",
    "    \n",
    "    X_pred['profit'] = X_pred['class'] * X_pred['ma31']\n",
    "    \n",
    "    profit = X_pred['profit'].sum()\n",
    "    print(\"Est Profit Cohort \" + str(j) + \": \" + str(profit))\n",
    "    profit_tot.append(profit)\n",
    "\n",
    "print(\"Total Profit \" + \" : \" + str(sum(profit_tot)))"
   ]
  },
  {
   "cell_type": "code",
   "execution_count": 8,
   "metadata": {},
   "outputs": [],
   "source": [
    "df_predict.to_csv('2019_predict_5_cnn.csv')"
   ]
  },
  {
   "cell_type": "code",
   "execution_count": null,
   "metadata": {},
   "outputs": [],
   "source": []
  }
 ],
 "metadata": {
  "kernelspec": {
   "display_name": "Python 36 (PythonData)",
   "language": "python",
   "name": "pythondata"
  },
  "language_info": {
   "codemirror_mode": {
    "name": "ipython",
    "version": 3
   },
   "file_extension": ".py",
   "mimetype": "text/x-python",
   "name": "python",
   "nbconvert_exporter": "python",
   "pygments_lexer": "ipython3",
   "version": "3.6.8"
  }
 },
 "nbformat": 4,
 "nbformat_minor": 2
}
