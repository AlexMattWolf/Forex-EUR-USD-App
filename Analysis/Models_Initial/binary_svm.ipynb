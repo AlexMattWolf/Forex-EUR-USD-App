{
 "cells": [
  {
   "cell_type": "code",
   "execution_count": 21,
   "metadata": {},
   "outputs": [],
   "source": [
    "# load dependencies\n",
    "import matplotlib.pyplot as plt\n",
    "import numpy as np\n",
    "import pandas as pd"
   ]
  },
  {
   "cell_type": "code",
   "execution_count": 22,
   "metadata": {},
   "outputs": [],
   "source": [
    "# Load data and select trainging hour and test hour\n",
    "trainhour = 5\n",
    "testhour = 7\n",
    "df = pd.read_csv('series.csv')\n",
    "cols5 = ['21', '22', '23', '24', '25']\n",
    "cols10 = ['21', '22', '23', '24', '25', '26', '27', '28', '29', '30']\n",
    "df['sum5'] = df[cols5].sum(axis=1)\n",
    "df['sum10'] = df[cols10].sum(axis=1)\n",
    "data = df.drop(df[(df['hour'] != trainhour)].index)\n",
    "testdata = df.drop(df[(df['hour'] != testhour)].index)\n",
    "del df"
   ]
  },
  {
   "cell_type": "code",
   "execution_count": 23,
   "metadata": {
    "scrolled": true
   },
   "outputs": [],
   "source": [
    "# Categorize the 'sum' column the number of PIPs over selected range\n",
    "def setlabels(x):\n",
    "    if x < -10:\n",
    "        return -1\n",
    "    elif x > 10:\n",
    "        return 1\n",
    "    else:\n",
    "        return 0\n",
    "\n",
    "data[\"labels\"] = data[\"sum10\"].apply(setlabels)\n",
    "testdata[\"labels\"] = testdata[\"sum10\"].apply(setlabels)"
   ]
  },
  {
   "cell_type": "code",
   "execution_count": 24,
   "metadata": {},
   "outputs": [],
   "source": [
    "# Get X, y for model\n",
    "X = data.iloc[:,8:28].to_numpy()\n",
    "\n",
    "from sklearn.preprocessing import LabelEncoder\n",
    "y = data['labels']\n",
    "label_encoder = LabelEncoder()\n",
    "label_encoder.fit(y)\n",
    "y_encoded = label_encoder.transform(y)\n",
    "y = y_encoded"
   ]
  },
  {
   "cell_type": "code",
   "execution_count": 25,
   "metadata": {},
   "outputs": [],
   "source": [
    "# Split data into training and test\n",
    "from sklearn.model_selection import train_test_split\n",
    "X_train, X_test, y_train, y_test = train_test_split(X, y, random_state=1, stratify=y)"
   ]
  },
  {
   "cell_type": "code",
   "execution_count": 26,
   "metadata": {},
   "outputs": [
    {
     "name": "stderr",
     "output_type": "stream",
     "text": [
      "C:\\Users\\mryet\\Anaconda3\\envs\\PythonData\\lib\\site-packages\\sklearn\\svm\\base.py:196: FutureWarning: The default value of gamma will change from 'auto' to 'scale' in version 0.22 to account better for unscaled features. Set gamma explicitly to 'auto' or 'scale' to avoid this warning.\n",
      "  \"avoid this warning.\", FutureWarning)\n"
     ]
    },
    {
     "name": "stdout",
     "output_type": "stream",
     "text": [
      "0.9801750772399588\n",
      "0.8892893923789907\n"
     ]
    }
   ],
   "source": [
    "# Create model and train model\n",
    "from sklearn.svm import SVC \n",
    "model = SVC(kernel='poly')\n",
    "model.fit(X_train, y_train)\n",
    "print(model.score(X_train, y_train))\n",
    "print(model.score(X_test, y_test))"
   ]
  },
  {
   "cell_type": "code",
   "execution_count": 27,
   "metadata": {},
   "outputs": [
    {
     "data": {
      "text/html": [
       "<div>\n",
       "<style scoped>\n",
       "    .dataframe tbody tr th:only-of-type {\n",
       "        vertical-align: middle;\n",
       "    }\n",
       "\n",
       "    .dataframe tbody tr th {\n",
       "        vertical-align: top;\n",
       "    }\n",
       "\n",
       "    .dataframe thead th {\n",
       "        text-align: right;\n",
       "    }\n",
       "</style>\n",
       "<table border=\"1\" class=\"dataframe\">\n",
       "  <thead>\n",
       "    <tr style=\"text-align: right;\">\n",
       "      <th></th>\n",
       "      <th>sum</th>\n",
       "      <th>count</th>\n",
       "      <th>min</th>\n",
       "      <th>max</th>\n",
       "    </tr>\n",
       "    <tr>\n",
       "      <th>labels</th>\n",
       "      <th></th>\n",
       "      <th></th>\n",
       "      <th></th>\n",
       "      <th></th>\n",
       "    </tr>\n",
       "  </thead>\n",
       "  <tbody>\n",
       "    <tr>\n",
       "      <th>-1</th>\n",
       "      <td>-4995.3</td>\n",
       "      <td>364</td>\n",
       "      <td>-38.7</td>\n",
       "      <td>-10.1</td>\n",
       "    </tr>\n",
       "    <tr>\n",
       "      <th>0</th>\n",
       "      <td>-1102.6</td>\n",
       "      <td>14838</td>\n",
       "      <td>-10.0</td>\n",
       "      <td>10.0</td>\n",
       "    </tr>\n",
       "    <tr>\n",
       "      <th>1</th>\n",
       "      <td>4937.9</td>\n",
       "      <td>334</td>\n",
       "      <td>10.0</td>\n",
       "      <td>45.9</td>\n",
       "    </tr>\n",
       "  </tbody>\n",
       "</table>\n",
       "</div>"
      ],
      "text/plain": [
       "           sum  count   min   max\n",
       "labels                           \n",
       "-1     -4995.3    364 -38.7 -10.1\n",
       " 0     -1102.6  14838 -10.0  10.0\n",
       " 1      4937.9    334  10.0  45.9"
      ]
     },
     "execution_count": 27,
     "metadata": {},
     "output_type": "execute_result"
    }
   ],
   "source": [
    "# Assign resutls to fitted data\n",
    "data['class'] = label_encoder.inverse_transform(model.predict(X))\n",
    "data_group = data.groupby('labels').agg(['sum','count', 'min', 'max'])\n",
    "data_group['sum10']"
   ]
  },
  {
   "cell_type": "code",
   "execution_count": 28,
   "metadata": {},
   "outputs": [],
   "source": [
    "# Pull out validation data and make predicts\n",
    "formodel = testdata.iloc[:,8:28].to_numpy()\n",
    "testdata['class'] = label_encoder.inverse_transform(model.predict(formodel))\n",
    "test_group = testdata.groupby('class').agg(['sum','count', 'min', 'max'])\n",
    "test_group['sum10']\n",
    "testdata = testdata.drop(testdata[(testdata['class'] == 0)].index)"
   ]
  },
  {
   "cell_type": "code",
   "execution_count": 29,
   "metadata": {},
   "outputs": [
    {
     "name": "stdout",
     "output_type": "stream",
     "text": [
      "Est Profit: -441.59999999999997\n"
     ]
    }
   ],
   "source": [
    "#testdata = testdata.drop('profit',axis=1, inplace=True)\n",
    "totalrows = testdata.shape[0]\n",
    "totalcols = testdata.shape[1]\n",
    "profit = []\n",
    "for i in range(totalrows):\n",
    "    temp = 0\n",
    "    for j in range(10):\n",
    "        temp += testdata.iloc[i,28+j]\n",
    "        if (testdata.iloc[i,totalcols-1] == -1):\n",
    "            if(temp > 2):\n",
    "              break  \n",
    "        else:\n",
    "            if(temp < -2):\n",
    "              break\n",
    "    \n",
    "    if (testdata.iloc[i,totalcols-1] == -1):\n",
    "        temp = - temp\n",
    "\n",
    "    profit.append(temp)\n",
    "\n",
    "totalrows = testdata.shape[0]\n",
    "totalcols = testdata.shape[1]\n",
    "profit = []\n",
    "for i in range(totalrows):\n",
    "    temp = 0\n",
    "    for j in range(10):\n",
    "        temp += testdata.iloc[i,28+j]\n",
    "        if (testdata.iloc[i,totalcols-1] == -1):\n",
    "            if(temp > 2):\n",
    "              break  \n",
    "        else:\n",
    "            if(temp < -2):\n",
    "              break\n",
    "    \n",
    "    if (testdata.iloc[i,totalcols-1] == -1):\n",
    "        temp = -temp\n",
    "    profit.append(temp)\n",
    "\n",
    "print(\"Est Profit: \" + str(sum(profit)))"
   ]
  },
  {
   "cell_type": "code",
   "execution_count": 30,
   "metadata": {},
   "outputs": [],
   "source": [
    "testdata.to_csv('binarytest.csv')"
   ]
  },
  {
   "cell_type": "code",
   "execution_count": null,
   "metadata": {},
   "outputs": [],
   "source": []
  }
 ],
 "metadata": {
  "kernelspec": {
   "display_name": "Python 36 (PythonData)",
   "language": "python",
   "name": "pythondata"
  },
  "language_info": {
   "codemirror_mode": {
    "name": "ipython",
    "version": 3
   },
   "file_extension": ".py",
   "mimetype": "text/x-python",
   "name": "python",
   "nbconvert_exporter": "python",
   "pygments_lexer": "ipython3",
   "version": "3.6.8"
  }
 },
 "nbformat": 4,
 "nbformat_minor": 2
}
