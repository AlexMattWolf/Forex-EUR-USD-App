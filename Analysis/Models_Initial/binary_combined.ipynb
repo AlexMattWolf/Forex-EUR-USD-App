{
 "cells": [
  {
   "cell_type": "code",
   "execution_count": 514,
   "metadata": {},
   "outputs": [],
   "source": [
    "# load dependencies\n",
    "import matplotlib.pyplot as plt\n",
    "import numpy as np\n",
    "import pandas as pd"
   ]
  },
  {
   "cell_type": "code",
   "execution_count": 515,
   "metadata": {},
   "outputs": [],
   "source": [
    "# Load data and select trainging hour and test hour\n",
    "trainhour = 5\n",
    "testhour = 7\n",
    "df = pd.read_csv('series.csv')\n",
    "cols5 = ['21', '22', '23', '24', '25']\n",
    "cols10 = ['21', '22', '23', '24', '25', '26', '27', '28', '29', '30']\n",
    "#cols5 = ['31', '32', '33', '34', '35']\n",
    "#cols10 = ['31', '32', '33', '34', '35', '36', '37', '38', '39', '40']\n",
    "df['sum5'] = df[cols5].sum(axis=1)\n",
    "df['sum10'] = df[cols10].sum(axis=1)\n",
    "data = df[(df['hour'] == trainhour) & (df['month'] == 6)]\n",
    "testdata = df[(df['hour'] == testhour) & (df['month'] == 6)]\n",
    "del df"
   ]
  },
  {
   "cell_type": "code",
   "execution_count": 516,
   "metadata": {
    "scrolled": false
   },
   "outputs": [],
   "source": [
    "# Categorize the 'sum' column the number of PIPs over selected range\n",
    "def setlabels(x):\n",
    "    if x < -10:\n",
    "        return -1\n",
    "    elif x > 10:\n",
    "        return 1\n",
    "    else:\n",
    "        return 0\n",
    "\n",
    "data[\"labels\"] = data[\"sum10\"].apply(setlabels)"
   ]
  },
  {
   "cell_type": "code",
   "execution_count": 517,
   "metadata": {},
   "outputs": [],
   "source": [
    "# Get X, y for model\n",
    "X = data.iloc[:,8:28].to_numpy()\n",
    "\n",
    "from sklearn.preprocessing import LabelEncoder\n",
    "from keras.utils import to_categorical\n",
    "y = data['labels']\n",
    "label_encoder = LabelEncoder()\n",
    "label_encoder.fit(y)\n",
    "y_encoded = label_encoder.transform(y)\n",
    "y = to_categorical(y_encoded)"
   ]
  },
  {
   "cell_type": "code",
   "execution_count": 518,
   "metadata": {},
   "outputs": [
    {
     "data": {
      "text/plain": [
       "KMeans(algorithm='auto', copy_x=True, init='k-means++', max_iter=300,\n",
       "    n_clusters=20, n_init=10, n_jobs=None, precompute_distances='auto',\n",
       "    random_state=None, tol=0.0001, verbose=0)"
      ]
     },
     "execution_count": 518,
     "metadata": {},
     "output_type": "execute_result"
    }
   ],
   "source": [
    "# Kmeans Model\n",
    "from sklearn.cluster import KMeans\n",
    "kmeans = KMeans(n_clusters=20)\n",
    "kmeans.fit(X)"
   ]
  },
  {
   "cell_type": "code",
   "execution_count": 519,
   "metadata": {},
   "outputs": [],
   "source": [
    "# Random forrest model\n",
    "from sklearn.ensemble import RandomForestClassifier\n",
    "rf = RandomForestClassifier(n_estimators=40)\n",
    "rf = rf.fit(X, y_encoded)"
   ]
  },
  {
   "cell_type": "code",
   "execution_count": 520,
   "metadata": {},
   "outputs": [
    {
     "data": {
      "text/plain": [
       "SVC(C=0.25, cache_size=200, class_weight=None, coef0=0.0,\n",
       "  decision_function_shape='ovr', degree=3, gamma='auto', kernel='poly',\n",
       "  max_iter=-1, probability=False, random_state=None, shrinking=True,\n",
       "  tol=0.001, verbose=False)"
      ]
     },
     "execution_count": 520,
     "metadata": {},
     "output_type": "execute_result"
    }
   ],
   "source": [
    "# SVM Model\n",
    "from sklearn.svm import SVC \n",
    "svm = SVC(kernel='poly',gamma='auto',C=.25)\n",
    "svm.fit(X, y_encoded)"
   ]
  },
  {
   "cell_type": "code",
   "execution_count": 521,
   "metadata": {},
   "outputs": [
    {
     "name": "stdout",
     "output_type": "stream",
     "text": [
      "Model: \"sequential_36\"\n",
      "_________________________________________________________________\n",
      "Layer (type)                 Output Shape              Param #   \n",
      "=================================================================\n",
      "dense_108 (Dense)            (None, 50)                1050      \n",
      "_________________________________________________________________\n",
      "dense_109 (Dense)            (None, 50)                2550      \n",
      "_________________________________________________________________\n",
      "dense_110 (Dense)            (None, 3)                 153       \n",
      "=================================================================\n",
      "Total params: 3,753\n",
      "Trainable params: 3,753\n",
      "Non-trainable params: 0\n",
      "_________________________________________________________________\n"
     ]
    },
    {
     "data": {
      "text/plain": [
       "<tensorflow.python.keras.callbacks.History at 0x20d2335e4e0>"
      ]
     },
     "execution_count": 521,
     "metadata": {},
     "output_type": "execute_result"
    }
   ],
   "source": [
    "# Neural Network model\n",
    "from tensorflow.keras.models import Sequential\n",
    "from tensorflow.keras.layers import Dense\n",
    "cnn = Sequential()\n",
    "cnn.add(Dense(units=50, activation='relu', input_dim=X.shape[1]))\n",
    "cnn.add(Dense(units=50, activation='relu'))\n",
    "cnn.add(Dense(units=y.shape[1], activation='softmax'))\n",
    "cnn.summary()\n",
    "\n",
    "cnn.compile(optimizer='adam', loss='categorical_crossentropy', metrics=['accuracy'])\n",
    "cnn.fit(X, y, epochs=5, shuffle=True, verbose=0)"
   ]
  },
  {
   "cell_type": "code",
   "execution_count": 522,
   "metadata": {
    "scrolled": true
   },
   "outputs": [
    {
     "name": "stdout",
     "output_type": "stream",
     "text": [
      "Random Forrest - Score: 0.9992063492063492\n",
      "Support Vector - Score: 0.9928571428571429\n",
      "Normal Neural Network - Loss: 0.136023119757218, Accuracy: 0.970634937286377\n"
     ]
    }
   ],
   "source": [
    "# Model loss and Accuray\n",
    "print(f\"Random Forrest - Score: {rf.score(X, y_encoded)}\")\n",
    "print(f\"Support Vector - Score: {svm.score(X, y_encoded)}\")\n",
    "cnn_loss, cnn_accuracy = cnn.evaluate(X, y, verbose=0)\n",
    "print(f\"Normal Neural Network - Loss: {cnn_loss}, Accuracy: {cnn_accuracy}\")"
   ]
  },
  {
   "cell_type": "code",
   "execution_count": 523,
   "metadata": {},
   "outputs": [],
   "source": [
    "# Set Kmeans groups on testdata\n",
    "data[\"grp\"] = kmeans.labels_\n",
    "data_group = data.groupby('grp').agg(['sum','count', 'min', 'max'])\n",
    "buygroup = data_group['labels'][['sum']].idxmax()[0]\n",
    "sellgroup = data_group['labels'][['sum']].idxmin()[0]\n",
    "def setkmeans(x):\n",
    "    if x == sellgroup:\n",
    "        return -1\n",
    "    elif x == buygroup:\n",
    "        return 1\n",
    "    else:\n",
    "        return 0"
   ]
  },
  {
   "cell_type": "code",
   "execution_count": 524,
   "metadata": {},
   "outputs": [],
   "source": [
    "# Pull out validation data and make predicts\n",
    "formodel = testdata.iloc[:,8:28].to_numpy()\n",
    "testdata['grp'] = kmeans.fit_predict(formodel)\n",
    "testdata[\"kmn\"] = testdata[\"grp\"].apply(setkmeans)\n",
    "testdata['rf'] = label_encoder.inverse_transform(rf.predict(formodel))\n",
    "testdata['svm'] = label_encoder.inverse_transform(svm.predict(formodel))\n",
    "testdata['cnn'] = label_encoder.inverse_transform(cnn.predict_classes(formodel))\n",
    "testdata['abs'] = testdata['kmn'].abs() + testdata['rf'].abs() + testdata['svm'].abs() + testdata['cnn'].abs()\n",
    "testdata = testdata.drop(testdata[(testdata['abs'] == 0)].index)\n",
    "testdata['tot'] = testdata['kmn'] + testdata['rf'] + testdata['svm'] + testdata['cnn']\n",
    "testdata = testdata.drop(testdata[(testdata['tot'] == -1)].index)\n",
    "testdata = testdata.drop(testdata[(testdata['tot'] == 0)].index)\n",
    "testdata = testdata.drop(testdata[(testdata['tot'] == 1)].index)"
   ]
  },
  {
   "cell_type": "code",
   "execution_count": 525,
   "metadata": {},
   "outputs": [
    {
     "name": "stdout",
     "output_type": "stream",
     "text": [
      "Est Profit: tot 32.8\n"
     ]
    }
   ],
   "source": [
    "totalrows = testdata.shape[0]\n",
    "totalcols = testdata.shape[1]\n",
    "profit = []\n",
    "for i in range(totalrows):      \n",
    "    if (testdata.iloc[i,totalcols-1] < -1):\n",
    "        temp = -testdata['sum10'].iloc[i]\n",
    "    else:\n",
    "        temp = testdata['sum10'].iloc[i]\n",
    "    \n",
    "    profit.append(temp)\n",
    "\n",
    "print(\"Est Profit: \" + testdata.columns[totalcols-1] + \" \" + str(sum(profit)))"
   ]
  },
  {
   "cell_type": "code",
   "execution_count": 526,
   "metadata": {},
   "outputs": [
    {
     "name": "stdout",
     "output_type": "stream",
     "text": [
      "Est Profit: tot 32.8\n"
     ]
    }
   ],
   "source": [
    "totalrows = testdata.shape[0]\n",
    "totalcols = testdata.shape[1]\n",
    "profit = []\n",
    "for i in range(totalrows):\n",
    "    temp = 0\n",
    "    for j in range(10):\n",
    "        temp += testdata.iloc[i,28+j]\n",
    "        if (testdata.iloc[i,totalcols-1] < -1):\n",
    "            if(temp > 2):\n",
    "              break  \n",
    "        elif (testdata.iloc[i,totalcols-1] > 1):\n",
    "            if(temp < -2):\n",
    "              break\n",
    "        else:\n",
    "            temp = 0\n",
    "            \n",
    "    if (testdata.iloc[i,totalcols-1] < -1):\n",
    "        temp = -temp\n",
    "    profit.append(temp)\n",
    "\n",
    "print(\"Est Profit: \" + testdata.columns[totalcols-1] + \" \" + str(sum(profit)))"
   ]
  },
  {
   "cell_type": "code",
   "execution_count": 528,
   "metadata": {},
   "outputs": [],
   "source": [
    "#testdata.to_csv('test_models.csv')"
   ]
  },
  {
   "cell_type": "code",
   "execution_count": 529,
   "metadata": {},
   "outputs": [
    {
     "data": {
      "text/plain": [
       "[32.8]"
      ]
     },
     "execution_count": 529,
     "metadata": {},
     "output_type": "execute_result"
    }
   ],
   "source": [
    "profit"
   ]
  },
  {
   "cell_type": "code",
   "execution_count": null,
   "metadata": {},
   "outputs": [],
   "source": []
  }
 ],
 "metadata": {
  "kernelspec": {
   "display_name": "Python 36 (PythonData)",
   "language": "python",
   "name": "pythondata"
  },
  "language_info": {
   "codemirror_mode": {
    "name": "ipython",
    "version": 3
   },
   "file_extension": ".py",
   "mimetype": "text/x-python",
   "name": "python",
   "nbconvert_exporter": "python",
   "pygments_lexer": "ipython3",
   "version": "3.6.8"
  }
 },
 "nbformat": 4,
 "nbformat_minor": 2
}
