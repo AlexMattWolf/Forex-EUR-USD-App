{
 "cells": [
  {
   "cell_type": "code",
   "execution_count": 113,
   "metadata": {},
   "outputs": [],
   "source": [
    "# load dependencies\n",
    "import matplotlib.pyplot as plt\n",
    "import numpy as np\n",
    "import pandas as pd"
   ]
  },
  {
   "cell_type": "code",
   "execution_count": 114,
   "metadata": {},
   "outputs": [],
   "source": [
    "# Load data and select trainging hour and test hour\n",
    "trainhour = 5\n",
    "#testhour = 7\n",
    "df = pd.read_csv('combined.csv')\n",
    "cols = ['1', '2', '3', '4', '5', '6', '7', '8', '9', '10']\n",
    "cols10 = ['31', '32', '33', '34', '35', '36', '37', '38', '39', '40']\n",
    "df['begin'] = df[cols].sum(axis=1)\n",
    "df['sum10'] = df[cols10].sum(axis=1)\n",
    "data = df[(df['hour'] == trainhour) & (df['month'] == 2)]\n",
    "#testdata = df[(df['hour'] == testhour) & (df['month'] == 6)]\n",
    "del df"
   ]
  },
  {
   "cell_type": "code",
   "execution_count": 115,
   "metadata": {
    "scrolled": false
   },
   "outputs": [],
   "source": [
    "# Categorize the 'sum' column the number of PIPs over selected range\n",
    "def setlabels(x):\n",
    "    if x < -15:\n",
    "        return -1\n",
    "    elif x > 15:\n",
    "        return 1\n",
    "    else:\n",
    "        return 0\n",
    "\n",
    "data[\"labels\"] = data[\"sum10\"].apply(setlabels)"
   ]
  },
  {
   "cell_type": "code",
   "execution_count": 116,
   "metadata": {},
   "outputs": [
    {
     "data": {
      "text/plain": [
       "array([[ 2.5       , -0.4       ,  2.6       , -1.2       ,  2.5       ,\n",
       "         0.5       , -2.2       , -3.        ,  0.3       ,  2.        ,\n",
       "         1.        , -0.9       , -1.2       , -1.7       ,  1.5       ,\n",
       "        -2.1       , -3.6       ,  1.2       , -1.2       ,  1.8       ,\n",
       "        -2.4       ,  2.60830391,  2.5299999 ,  1.64      ],\n",
       "       [-0.4       ,  2.6       , -1.2       ,  2.5       ,  0.5       ,\n",
       "        -2.2       , -3.        ,  0.3       ,  2.        ,  1.        ,\n",
       "        -0.9       , -1.2       , -1.7       ,  1.5       , -2.1       ,\n",
       "        -3.6       ,  1.2       , -1.2       ,  1.8       ,  0.        ,\n",
       "        -1.6       ,  2.60830391,  2.5299999 ,  1.64      ]])"
      ]
     },
     "execution_count": 116,
     "metadata": {},
     "output_type": "execute_result"
    }
   ],
   "source": [
    "X_data = data.iloc[:,18:38]\n",
    "X_data['begin'] = data['begin']\n",
    "X_data['dow_open'] = data['dow_open']\n",
    "X_data['euf_open'] = data['euf_open']\n",
    "X_data['us_6mn'] = data['us_6mn']\n",
    "X = X_data.to_numpy()\n",
    "X[0:2]"
   ]
  },
  {
   "cell_type": "code",
   "execution_count": 117,
   "metadata": {},
   "outputs": [],
   "source": [
    "# Get y for model\n",
    "from sklearn.preprocessing import LabelEncoder\n",
    "from keras.utils import to_categorical\n",
    "y = data['labels']\n",
    "label_encoder = LabelEncoder()\n",
    "label_encoder.fit(y)\n",
    "y_encoded = label_encoder.transform(y)\n",
    "y = to_categorical(y_encoded)"
   ]
  },
  {
   "cell_type": "code",
   "execution_count": 118,
   "metadata": {},
   "outputs": [
    {
     "data": {
      "text/plain": [
       "KMeans(algorithm='auto', copy_x=True, init='k-means++', max_iter=300,\n",
       "    n_clusters=10, n_init=10, n_jobs=None, precompute_distances='auto',\n",
       "    random_state=None, tol=0.0001, verbose=0)"
      ]
     },
     "execution_count": 118,
     "metadata": {},
     "output_type": "execute_result"
    }
   ],
   "source": [
    "# Kmeans Model\n",
    "from sklearn.cluster import KMeans\n",
    "kmeans = KMeans(n_clusters=10)\n",
    "kmeans.fit(X)"
   ]
  },
  {
   "cell_type": "code",
   "execution_count": 119,
   "metadata": {},
   "outputs": [],
   "source": [
    "# Random forrest model\n",
    "from sklearn.ensemble import RandomForestClassifier\n",
    "rf = RandomForestClassifier(n_estimators=20)\n",
    "rf = rf.fit(X, y_encoded)"
   ]
  },
  {
   "cell_type": "code",
   "execution_count": 120,
   "metadata": {},
   "outputs": [
    {
     "data": {
      "text/plain": [
       "SVC(C=0.25, cache_size=200, class_weight=None, coef0=0.0,\n",
       "  decision_function_shape='ovr', degree=3, gamma='auto', kernel='poly',\n",
       "  max_iter=-1, probability=False, random_state=None, shrinking=True,\n",
       "  tol=0.001, verbose=False)"
      ]
     },
     "execution_count": 120,
     "metadata": {},
     "output_type": "execute_result"
    }
   ],
   "source": [
    "# SVM Model\n",
    "from sklearn.svm import SVC \n",
    "svm = SVC(kernel='poly',gamma='auto',C=.25)\n",
    "svm.fit(X, y_encoded)"
   ]
  },
  {
   "cell_type": "code",
   "execution_count": 121,
   "metadata": {},
   "outputs": [
    {
     "name": "stdout",
     "output_type": "stream",
     "text": [
      "Model: \"sequential_5\"\n",
      "_________________________________________________________________\n",
      "Layer (type)                 Output Shape              Param #   \n",
      "=================================================================\n",
      "dense_15 (Dense)             (None, 40)                1000      \n",
      "_________________________________________________________________\n",
      "dense_16 (Dense)             (None, 20)                820       \n",
      "_________________________________________________________________\n",
      "dense_17 (Dense)             (None, 3)                 63        \n",
      "=================================================================\n",
      "Total params: 1,883\n",
      "Trainable params: 1,883\n",
      "Non-trainable params: 0\n",
      "_________________________________________________________________\n"
     ]
    },
    {
     "data": {
      "text/plain": [
       "<tensorflow.python.keras.callbacks.History at 0x2a415142f98>"
      ]
     },
     "execution_count": 121,
     "metadata": {},
     "output_type": "execute_result"
    }
   ],
   "source": [
    "# Neural Network model\n",
    "from tensorflow.keras.models import Sequential\n",
    "from tensorflow.keras.layers import Dense\n",
    "cnn = Sequential()\n",
    "cnn.add(Dense(units=40, activation='relu', input_dim=X.shape[1]))\n",
    "cnn.add(Dense(units=20, activation='relu'))\n",
    "cnn.add(Dense(units=y.shape[1], activation='softmax'))\n",
    "cnn.summary()\n",
    "\n",
    "cnn.compile(optimizer='adam', loss='categorical_crossentropy', metrics=['accuracy'])\n",
    "cnn.fit(X, y, epochs=5, shuffle=True, verbose=0)"
   ]
  },
  {
   "cell_type": "code",
   "execution_count": 122,
   "metadata": {
    "scrolled": true
   },
   "outputs": [
    {
     "name": "stdout",
     "output_type": "stream",
     "text": [
      "Random Forrest - Score: 1.0\n",
      "Support Vector - Score: 1.0\n",
      "Normal Neural Network - Loss: 0.01675560207334919, Accuracy: 0.9982455968856812\n"
     ]
    }
   ],
   "source": [
    "# Model loss and Accuray\n",
    "print(f\"Random Forrest - Score: {rf.score(X, y_encoded)}\")\n",
    "print(f\"Support Vector - Score: {svm.score(X, y_encoded)}\")\n",
    "cnn_loss, cnn_accuracy = cnn.evaluate(X, y, verbose=0)\n",
    "print(f\"Normal Neural Network - Loss: {cnn_loss}, Accuracy: {cnn_accuracy}\")"
   ]
  },
  {
   "cell_type": "code",
   "execution_count": 123,
   "metadata": {},
   "outputs": [],
   "source": [
    "# Set Kmeans groups on testdata\n",
    "data[\"grp\"] = kmeans.labels_\n",
    "data_group = data.groupby('grp').agg(['sum','count', 'min', 'max'])\n",
    "buygroup = data_group['labels'][['sum']].idxmax()[0]\n",
    "sellgroup = data_group['labels'][['sum']].idxmin()[0]\n",
    "def setkmeans(x):\n",
    "    if x == sellgroup:\n",
    "        return -1\n",
    "    elif x == buygroup:\n",
    "        return 1\n",
    "    else:\n",
    "        return 0"
   ]
  },
  {
   "cell_type": "code",
   "execution_count": 124,
   "metadata": {},
   "outputs": [
    {
     "data": {
      "text/html": [
       "<div>\n",
       "<style scoped>\n",
       "    .dataframe tbody tr th:only-of-type {\n",
       "        vertical-align: middle;\n",
       "    }\n",
       "\n",
       "    .dataframe tbody tr th {\n",
       "        vertical-align: top;\n",
       "    }\n",
       "\n",
       "    .dataframe thead th {\n",
       "        text-align: right;\n",
       "    }\n",
       "</style>\n",
       "<table border=\"1\" class=\"dataframe\">\n",
       "  <thead>\n",
       "    <tr style=\"text-align: right;\">\n",
       "      <th></th>\n",
       "      <th>Unnamed: 0</th>\n",
       "      <th>year</th>\n",
       "      <th>month</th>\n",
       "      <th>day</th>\n",
       "      <th>hour</th>\n",
       "      <th>minute</th>\n",
       "      <th>Weekday</th>\n",
       "      <th>Change</th>\n",
       "      <th>1</th>\n",
       "      <th>2</th>\n",
       "      <th>...</th>\n",
       "      <th>56</th>\n",
       "      <th>57</th>\n",
       "      <th>58</th>\n",
       "      <th>59</th>\n",
       "      <th>60</th>\n",
       "      <th>dow_open</th>\n",
       "      <th>euf_open</th>\n",
       "      <th>us_6mn</th>\n",
       "      <th>begin</th>\n",
       "      <th>sum10</th>\n",
       "    </tr>\n",
       "  </thead>\n",
       "  <tbody>\n",
       "    <tr>\n",
       "      <th>28777</th>\n",
       "      <td>28777</td>\n",
       "      <td>2018</td>\n",
       "      <td>2</td>\n",
       "      <td>1</td>\n",
       "      <td>8</td>\n",
       "      <td>0</td>\n",
       "      <td>5</td>\n",
       "      <td>0.8</td>\n",
       "      <td>0.8</td>\n",
       "      <td>1.6</td>\n",
       "      <td>...</td>\n",
       "      <td>0.6</td>\n",
       "      <td>4.5</td>\n",
       "      <td>1.9</td>\n",
       "      <td>-0.2</td>\n",
       "      <td>-5.5</td>\n",
       "      <td>2.608304</td>\n",
       "      <td>2.53</td>\n",
       "      <td>1.64</td>\n",
       "      <td>-1.600000e+00</td>\n",
       "      <td>-2.3</td>\n",
       "    </tr>\n",
       "    <tr>\n",
       "      <th>28778</th>\n",
       "      <td>28778</td>\n",
       "      <td>2018</td>\n",
       "      <td>2</td>\n",
       "      <td>1</td>\n",
       "      <td>8</td>\n",
       "      <td>1</td>\n",
       "      <td>5</td>\n",
       "      <td>1.6</td>\n",
       "      <td>1.6</td>\n",
       "      <td>-2.3</td>\n",
       "      <td>...</td>\n",
       "      <td>4.5</td>\n",
       "      <td>1.9</td>\n",
       "      <td>-0.2</td>\n",
       "      <td>-5.5</td>\n",
       "      <td>-0.8</td>\n",
       "      <td>2.608304</td>\n",
       "      <td>2.53</td>\n",
       "      <td>1.64</td>\n",
       "      <td>-4.440892e-16</td>\n",
       "      <td>2.1</td>\n",
       "    </tr>\n",
       "    <tr>\n",
       "      <th>28779</th>\n",
       "      <td>28779</td>\n",
       "      <td>2018</td>\n",
       "      <td>2</td>\n",
       "      <td>1</td>\n",
       "      <td>8</td>\n",
       "      <td>2</td>\n",
       "      <td>5</td>\n",
       "      <td>-2.3</td>\n",
       "      <td>-2.3</td>\n",
       "      <td>2.4</td>\n",
       "      <td>...</td>\n",
       "      <td>1.9</td>\n",
       "      <td>-0.2</td>\n",
       "      <td>-5.5</td>\n",
       "      <td>-0.8</td>\n",
       "      <td>-0.3</td>\n",
       "      <td>2.608304</td>\n",
       "      <td>2.53</td>\n",
       "      <td>1.64</td>\n",
       "      <td>-4.000000e+00</td>\n",
       "      <td>8.0</td>\n",
       "    </tr>\n",
       "    <tr>\n",
       "      <th>28780</th>\n",
       "      <td>28780</td>\n",
       "      <td>2018</td>\n",
       "      <td>2</td>\n",
       "      <td>1</td>\n",
       "      <td>8</td>\n",
       "      <td>3</td>\n",
       "      <td>5</td>\n",
       "      <td>2.4</td>\n",
       "      <td>2.4</td>\n",
       "      <td>-1.6</td>\n",
       "      <td>...</td>\n",
       "      <td>-0.2</td>\n",
       "      <td>-5.5</td>\n",
       "      <td>-0.8</td>\n",
       "      <td>-0.3</td>\n",
       "      <td>-1.3</td>\n",
       "      <td>2.608304</td>\n",
       "      <td>2.53</td>\n",
       "      <td>1.64</td>\n",
       "      <td>2.600000e+00</td>\n",
       "      <td>4.7</td>\n",
       "    </tr>\n",
       "    <tr>\n",
       "      <th>28781</th>\n",
       "      <td>28781</td>\n",
       "      <td>2018</td>\n",
       "      <td>2</td>\n",
       "      <td>1</td>\n",
       "      <td>8</td>\n",
       "      <td>4</td>\n",
       "      <td>5</td>\n",
       "      <td>-1.6</td>\n",
       "      <td>-1.6</td>\n",
       "      <td>-2.1</td>\n",
       "      <td>...</td>\n",
       "      <td>-5.5</td>\n",
       "      <td>-0.8</td>\n",
       "      <td>-0.3</td>\n",
       "      <td>-1.3</td>\n",
       "      <td>2.1</td>\n",
       "      <td>2.608304</td>\n",
       "      <td>2.53</td>\n",
       "      <td>1.64</td>\n",
       "      <td>3.100000e+00</td>\n",
       "      <td>4.0</td>\n",
       "    </tr>\n",
       "  </tbody>\n",
       "</table>\n",
       "<p>5 rows × 73 columns</p>\n",
       "</div>"
      ],
      "text/plain": [
       "       Unnamed: 0  year  month  day  hour  minute  Weekday  Change    1    2  \\\n",
       "28777       28777  2018      2    1     8       0        5     0.8  0.8  1.6   \n",
       "28778       28778  2018      2    1     8       1        5     1.6  1.6 -2.3   \n",
       "28779       28779  2018      2    1     8       2        5    -2.3 -2.3  2.4   \n",
       "28780       28780  2018      2    1     8       3        5     2.4  2.4 -1.6   \n",
       "28781       28781  2018      2    1     8       4        5    -1.6 -1.6 -2.1   \n",
       "\n",
       "       ...   56   57   58   59   60  dow_open  euf_open  us_6mn         begin  \\\n",
       "28777  ...  0.6  4.5  1.9 -0.2 -5.5  2.608304      2.53    1.64 -1.600000e+00   \n",
       "28778  ...  4.5  1.9 -0.2 -5.5 -0.8  2.608304      2.53    1.64 -4.440892e-16   \n",
       "28779  ...  1.9 -0.2 -5.5 -0.8 -0.3  2.608304      2.53    1.64 -4.000000e+00   \n",
       "28780  ... -0.2 -5.5 -0.8 -0.3 -1.3  2.608304      2.53    1.64  2.600000e+00   \n",
       "28781  ... -5.5 -0.8 -0.3 -1.3  2.1  2.608304      2.53    1.64  3.100000e+00   \n",
       "\n",
       "       sum10  \n",
       "28777   -2.3  \n",
       "28778    2.1  \n",
       "28779    8.0  \n",
       "28780    4.7  \n",
       "28781    4.0  \n",
       "\n",
       "[5 rows x 73 columns]"
      ]
     },
     "execution_count": 124,
     "metadata": {},
     "output_type": "execute_result"
    }
   ],
   "source": [
    "# Load data and select trainging hour and test hour\n",
    "testhour = 8\n",
    "df = pd.read_csv('combined.csv')\n",
    "cols = ['1', '2', '3', '4', '5', '6', '7', '8', '9', '10']\n",
    "cols10 = ['31', '32', '33', '34', '35', '36', '37', '38', '39', '40']\n",
    "df['begin'] = df[cols].sum(axis=1)\n",
    "df['sum10'] = df[cols10].sum(axis=1)\n",
    "testdata = df[(df['hour'] == testhour) & (df['month'] == 2)]\n",
    "del df\n",
    "testdata.head()"
   ]
  },
  {
   "cell_type": "code",
   "execution_count": 125,
   "metadata": {},
   "outputs": [
    {
     "data": {
      "text/plain": [
       "(1140, 24)"
      ]
     },
     "execution_count": 125,
     "metadata": {},
     "output_type": "execute_result"
    }
   ],
   "source": [
    "formodel = testdata.iloc[:,18:38]\n",
    "formodel['begin'] = testdata['begin']\n",
    "formodel['dow_open'] = testdata['dow_open']\n",
    "formodel['euf_open'] = testdata['euf_open']\n",
    "formodel['us_6mn'] = testdata['us_6mn']\n",
    "formodel = formodel.to_numpy()\n",
    "formodel.shape"
   ]
  },
  {
   "cell_type": "code",
   "execution_count": 126,
   "metadata": {},
   "outputs": [
    {
     "data": {
      "text/plain": [
       "count    1140.000000\n",
       "mean        0.239649\n",
       "std         8.300460\n",
       "min       -68.300000\n",
       "25%        -4.300000\n",
       "50%         0.600000\n",
       "75%         5.500000\n",
       "max        33.500000\n",
       "Name: sum10, dtype: float64"
      ]
     },
     "execution_count": 126,
     "metadata": {},
     "output_type": "execute_result"
    }
   ],
   "source": [
    "# Pull out validation data and make predicts\n",
    "testdata['grp'] = kmeans.fit_predict(formodel)\n",
    "testdata[\"kmn\"] = testdata[\"grp\"].apply(setkmeans)\n",
    "testdata['rf'] = label_encoder.inverse_transform(rf.predict(formodel))\n",
    "testdata['svm'] = label_encoder.inverse_transform(svm.predict(formodel))\n",
    "testdata['cnn'] = label_encoder.inverse_transform(cnn.predict_classes(formodel))\n",
    "testdata['abs'] = testdata['kmn'].abs() + testdata['rf'].abs() + testdata['svm'].abs() + testdata['cnn'].abs()\n",
    "testdata['tot'] = testdata['kmn'] + testdata['rf'] + testdata['svm'] + testdata['cnn']\n",
    "testdata['sum10'].describe()"
   ]
  },
  {
   "cell_type": "code",
   "execution_count": 127,
   "metadata": {},
   "outputs": [
    {
     "data": {
      "text/plain": [
       "count    374.000000\n",
       "mean      -0.412032\n",
       "std        9.628891\n",
       "min      -68.300000\n",
       "25%       -4.700000\n",
       "50%        0.800000\n",
       "75%        5.400000\n",
       "max       33.500000\n",
       "Name: sum10, dtype: float64"
      ]
     },
     "execution_count": 127,
     "metadata": {},
     "output_type": "execute_result"
    }
   ],
   "source": [
    "testdata = testdata.drop(testdata[(testdata['abs'] == 0)].index)\n",
    "testdata['sum10'].describe()"
   ]
  },
  {
   "cell_type": "code",
   "execution_count": 133,
   "metadata": {},
   "outputs": [
    {
     "data": {
      "text/plain": [
       "count    0.0\n",
       "mean     NaN\n",
       "std      NaN\n",
       "min      NaN\n",
       "25%      NaN\n",
       "50%      NaN\n",
       "75%      NaN\n",
       "max      NaN\n",
       "Name: sum10, dtype: float64"
      ]
     },
     "execution_count": 133,
     "metadata": {},
     "output_type": "execute_result"
    }
   ],
   "source": [
    "testdata = testdata.drop(testdata[(testdata['tot'] == -1)].index)\n",
    "testdata = testdata.drop(testdata[(testdata['tot'] == 0)].index)\n",
    "testdata = testdata.drop(testdata[(testdata['tot'] == 1)].index)\n",
    "testdata['sum10'].describe()"
   ]
  },
  {
   "cell_type": "code",
   "execution_count": 132,
   "metadata": {},
   "outputs": [
    {
     "name": "stdout",
     "output_type": "stream",
     "text": [
      "Est Profit: tot -25.3\n"
     ]
    }
   ],
   "source": [
    "totalrows = testdata.shape[0]\n",
    "totalcols = testdata.shape[1]\n",
    "profit = []\n",
    "for i in range(totalrows):      \n",
    "    if (testdata.iloc[i,totalcols-1] < -1):\n",
    "        temp = -testdata['sum10'].iloc[i]\n",
    "    else:\n",
    "        temp = testdata['sum10'].iloc[i]\n",
    "    \n",
    "    profit.append(temp)\n",
    "\n",
    "print(\"Est Profit: \" + testdata.columns[totalcols-1] + \" \" + str(sum(profit)))"
   ]
  },
  {
   "cell_type": "code",
   "execution_count": 130,
   "metadata": {},
   "outputs": [],
   "source": [
    "#testdata.to_csv('test_models.csv')"
   ]
  },
  {
   "cell_type": "code",
   "execution_count": null,
   "metadata": {},
   "outputs": [],
   "source": []
  }
 ],
 "metadata": {
  "kernelspec": {
   "display_name": "Python 36 (PythonData)",
   "language": "python",
   "name": "pythondata"
  },
  "language_info": {
   "codemirror_mode": {
    "name": "ipython",
    "version": 3
   },
   "file_extension": ".py",
   "mimetype": "text/x-python",
   "name": "python",
   "nbconvert_exporter": "python",
   "pygments_lexer": "ipython3",
   "version": "3.6.8"
  }
 },
 "nbformat": 4,
 "nbformat_minor": 2
}
