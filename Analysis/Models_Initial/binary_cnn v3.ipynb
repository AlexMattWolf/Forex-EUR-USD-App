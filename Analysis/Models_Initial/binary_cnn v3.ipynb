{
 "cells": [
  {
   "cell_type": "code",
   "execution_count": 33,
   "metadata": {},
   "outputs": [],
   "source": [
    "# load dependencies\n",
    "import matplotlib.pyplot as plt\n",
    "import numpy as np\n",
    "import pandas as pd"
   ]
  },
  {
   "cell_type": "code",
   "execution_count": 34,
   "metadata": {},
   "outputs": [],
   "source": [
    "# Load data and select trainging hour and test hour\n",
    "trainhour = 5\n",
    "testhour = 7\n",
    "df = pd.read_csv('combined.csv')\n",
    "cols = ['1', '2', '3', '4', '5', '6', '7', '8', '9', '10']\n",
    "cols10 = ['31', '32', '33', '34', '35', '36', '37', '38', '39', '40']\n",
    "df['begin'] = df[cols].sum(axis=1)\n",
    "df['sum10'] = df[cols10].sum(axis=1)\n",
    "data = df.drop(df[(df['hour'] != trainhour)].index)\n",
    "testdata = df.drop(df[(df['hour'] != testhour)].index)\n",
    "del df"
   ]
  },
  {
   "cell_type": "code",
   "execution_count": 35,
   "metadata": {
    "scrolled": false
   },
   "outputs": [
    {
     "data": {
      "text/html": [
       "<div>\n",
       "<style scoped>\n",
       "    .dataframe tbody tr th:only-of-type {\n",
       "        vertical-align: middle;\n",
       "    }\n",
       "\n",
       "    .dataframe tbody tr th {\n",
       "        vertical-align: top;\n",
       "    }\n",
       "\n",
       "    .dataframe thead th {\n",
       "        text-align: right;\n",
       "    }\n",
       "</style>\n",
       "<table border=\"1\" class=\"dataframe\">\n",
       "  <thead>\n",
       "    <tr style=\"text-align: right;\">\n",
       "      <th></th>\n",
       "      <th>Unnamed: 0</th>\n",
       "      <th>year</th>\n",
       "      <th>month</th>\n",
       "      <th>day</th>\n",
       "      <th>hour</th>\n",
       "      <th>minute</th>\n",
       "      <th>Weekday</th>\n",
       "      <th>Change</th>\n",
       "      <th>1</th>\n",
       "      <th>2</th>\n",
       "      <th>...</th>\n",
       "      <th>57</th>\n",
       "      <th>58</th>\n",
       "      <th>59</th>\n",
       "      <th>60</th>\n",
       "      <th>dow_open</th>\n",
       "      <th>euf_open</th>\n",
       "      <th>us_6mn</th>\n",
       "      <th>begin</th>\n",
       "      <th>sum10</th>\n",
       "      <th>labels</th>\n",
       "    </tr>\n",
       "  </thead>\n",
       "  <tbody>\n",
       "    <tr>\n",
       "      <th>298</th>\n",
       "      <td>298</td>\n",
       "      <td>2018</td>\n",
       "      <td>1</td>\n",
       "      <td>2</td>\n",
       "      <td>5</td>\n",
       "      <td>0</td>\n",
       "      <td>3</td>\n",
       "      <td>3.2</td>\n",
       "      <td>3.2</td>\n",
       "      <td>5.0</td>\n",
       "      <td>...</td>\n",
       "      <td>1.9</td>\n",
       "      <td>-0.8</td>\n",
       "      <td>-1.4</td>\n",
       "      <td>-0.7</td>\n",
       "      <td>2.480935</td>\n",
       "      <td>2.343</td>\n",
       "      <td>1.61</td>\n",
       "      <td>0.6</td>\n",
       "      <td>6.6</td>\n",
       "      <td>0</td>\n",
       "    </tr>\n",
       "    <tr>\n",
       "      <th>299</th>\n",
       "      <td>299</td>\n",
       "      <td>2018</td>\n",
       "      <td>1</td>\n",
       "      <td>2</td>\n",
       "      <td>5</td>\n",
       "      <td>1</td>\n",
       "      <td>3</td>\n",
       "      <td>5.0</td>\n",
       "      <td>5.0</td>\n",
       "      <td>1.0</td>\n",
       "      <td>...</td>\n",
       "      <td>-0.8</td>\n",
       "      <td>-1.4</td>\n",
       "      <td>-0.7</td>\n",
       "      <td>0.1</td>\n",
       "      <td>2.480935</td>\n",
       "      <td>2.343</td>\n",
       "      <td>1.61</td>\n",
       "      <td>-2.2</td>\n",
       "      <td>5.2</td>\n",
       "      <td>0</td>\n",
       "    </tr>\n",
       "    <tr>\n",
       "      <th>300</th>\n",
       "      <td>300</td>\n",
       "      <td>2018</td>\n",
       "      <td>1</td>\n",
       "      <td>2</td>\n",
       "      <td>5</td>\n",
       "      <td>2</td>\n",
       "      <td>3</td>\n",
       "      <td>1.0</td>\n",
       "      <td>1.0</td>\n",
       "      <td>-4.6</td>\n",
       "      <td>...</td>\n",
       "      <td>-1.4</td>\n",
       "      <td>-0.7</td>\n",
       "      <td>0.1</td>\n",
       "      <td>1.5</td>\n",
       "      <td>2.480935</td>\n",
       "      <td>2.343</td>\n",
       "      <td>1.61</td>\n",
       "      <td>-6.4</td>\n",
       "      <td>0.1</td>\n",
       "      <td>0</td>\n",
       "    </tr>\n",
       "    <tr>\n",
       "      <th>301</th>\n",
       "      <td>301</td>\n",
       "      <td>2018</td>\n",
       "      <td>1</td>\n",
       "      <td>2</td>\n",
       "      <td>5</td>\n",
       "      <td>3</td>\n",
       "      <td>3</td>\n",
       "      <td>-4.6</td>\n",
       "      <td>-4.6</td>\n",
       "      <td>-2.0</td>\n",
       "      <td>...</td>\n",
       "      <td>-0.7</td>\n",
       "      <td>0.1</td>\n",
       "      <td>1.5</td>\n",
       "      <td>-0.9</td>\n",
       "      <td>2.480935</td>\n",
       "      <td>2.343</td>\n",
       "      <td>1.61</td>\n",
       "      <td>-8.5</td>\n",
       "      <td>-2.0</td>\n",
       "      <td>0</td>\n",
       "    </tr>\n",
       "    <tr>\n",
       "      <th>302</th>\n",
       "      <td>302</td>\n",
       "      <td>2018</td>\n",
       "      <td>1</td>\n",
       "      <td>2</td>\n",
       "      <td>5</td>\n",
       "      <td>4</td>\n",
       "      <td>3</td>\n",
       "      <td>-2.0</td>\n",
       "      <td>-2.0</td>\n",
       "      <td>-1.9</td>\n",
       "      <td>...</td>\n",
       "      <td>0.1</td>\n",
       "      <td>1.5</td>\n",
       "      <td>-0.9</td>\n",
       "      <td>-1.8</td>\n",
       "      <td>2.480935</td>\n",
       "      <td>2.343</td>\n",
       "      <td>1.61</td>\n",
       "      <td>-3.8</td>\n",
       "      <td>2.5</td>\n",
       "      <td>0</td>\n",
       "    </tr>\n",
       "  </tbody>\n",
       "</table>\n",
       "<p>5 rows × 74 columns</p>\n",
       "</div>"
      ],
      "text/plain": [
       "     Unnamed: 0  year  month  day  hour  minute  Weekday  Change    1    2  \\\n",
       "298         298  2018      1    2     5       0        3     3.2  3.2  5.0   \n",
       "299         299  2018      1    2     5       1        3     5.0  5.0  1.0   \n",
       "300         300  2018      1    2     5       2        3     1.0  1.0 -4.6   \n",
       "301         301  2018      1    2     5       3        3    -4.6 -4.6 -2.0   \n",
       "302         302  2018      1    2     5       4        3    -2.0 -2.0 -1.9   \n",
       "\n",
       "     ...   57   58   59   60  dow_open  euf_open  us_6mn  begin  sum10  labels  \n",
       "298  ...  1.9 -0.8 -1.4 -0.7  2.480935     2.343    1.61    0.6    6.6       0  \n",
       "299  ... -0.8 -1.4 -0.7  0.1  2.480935     2.343    1.61   -2.2    5.2       0  \n",
       "300  ... -1.4 -0.7  0.1  1.5  2.480935     2.343    1.61   -6.4    0.1       0  \n",
       "301  ... -0.7  0.1  1.5 -0.9  2.480935     2.343    1.61   -8.5   -2.0       0  \n",
       "302  ...  0.1  1.5 -0.9 -1.8  2.480935     2.343    1.61   -3.8    2.5       0  \n",
       "\n",
       "[5 rows x 74 columns]"
      ]
     },
     "execution_count": 35,
     "metadata": {},
     "output_type": "execute_result"
    }
   ],
   "source": [
    "# Categorize the 'sum' column the number of PIPs over selected range\n",
    "def setlabels(x):\n",
    "    if x < -10:\n",
    "        return -1\n",
    "    elif x > 10:\n",
    "        return 1\n",
    "    else:\n",
    "        return 0\n",
    "\n",
    "data[\"labels\"] = data[\"sum10\"].apply(setlabels)\n",
    "data.head()"
   ]
  },
  {
   "cell_type": "code",
   "execution_count": 36,
   "metadata": {
    "scrolled": true
   },
   "outputs": [
    {
     "data": {
      "text/html": [
       "<div>\n",
       "<style scoped>\n",
       "    .dataframe tbody tr th:only-of-type {\n",
       "        vertical-align: middle;\n",
       "    }\n",
       "\n",
       "    .dataframe tbody tr th {\n",
       "        vertical-align: top;\n",
       "    }\n",
       "\n",
       "    .dataframe thead th {\n",
       "        text-align: right;\n",
       "    }\n",
       "</style>\n",
       "<table border=\"1\" class=\"dataframe\">\n",
       "  <thead>\n",
       "    <tr style=\"text-align: right;\">\n",
       "      <th></th>\n",
       "      <th>11</th>\n",
       "      <th>12</th>\n",
       "      <th>13</th>\n",
       "      <th>14</th>\n",
       "      <th>15</th>\n",
       "      <th>16</th>\n",
       "      <th>17</th>\n",
       "      <th>18</th>\n",
       "      <th>19</th>\n",
       "      <th>20</th>\n",
       "      <th>...</th>\n",
       "      <th>25</th>\n",
       "      <th>26</th>\n",
       "      <th>27</th>\n",
       "      <th>28</th>\n",
       "      <th>29</th>\n",
       "      <th>30</th>\n",
       "      <th>begin</th>\n",
       "      <th>dow_open</th>\n",
       "      <th>euf_open</th>\n",
       "      <th>us_6mn</th>\n",
       "    </tr>\n",
       "  </thead>\n",
       "  <tbody>\n",
       "    <tr>\n",
       "      <th>298</th>\n",
       "      <td>0.4</td>\n",
       "      <td>0.8</td>\n",
       "      <td>-1.1</td>\n",
       "      <td>0.1</td>\n",
       "      <td>0.2</td>\n",
       "      <td>-0.5</td>\n",
       "      <td>-1.1</td>\n",
       "      <td>-2.0</td>\n",
       "      <td>0.0</td>\n",
       "      <td>-1.7</td>\n",
       "      <td>...</td>\n",
       "      <td>1.2</td>\n",
       "      <td>1.6</td>\n",
       "      <td>1.5</td>\n",
       "      <td>1.3</td>\n",
       "      <td>0.1</td>\n",
       "      <td>1.7</td>\n",
       "      <td>0.6</td>\n",
       "      <td>2.480935</td>\n",
       "      <td>2.343</td>\n",
       "      <td>1.61</td>\n",
       "    </tr>\n",
       "    <tr>\n",
       "      <th>299</th>\n",
       "      <td>0.8</td>\n",
       "      <td>-1.1</td>\n",
       "      <td>0.1</td>\n",
       "      <td>0.2</td>\n",
       "      <td>-0.5</td>\n",
       "      <td>-1.1</td>\n",
       "      <td>-2.0</td>\n",
       "      <td>0.0</td>\n",
       "      <td>-1.7</td>\n",
       "      <td>1.5</td>\n",
       "      <td>...</td>\n",
       "      <td>1.6</td>\n",
       "      <td>1.5</td>\n",
       "      <td>1.3</td>\n",
       "      <td>0.1</td>\n",
       "      <td>1.7</td>\n",
       "      <td>-0.4</td>\n",
       "      <td>-2.2</td>\n",
       "      <td>2.480935</td>\n",
       "      <td>2.343</td>\n",
       "      <td>1.61</td>\n",
       "    </tr>\n",
       "    <tr>\n",
       "      <th>300</th>\n",
       "      <td>-1.1</td>\n",
       "      <td>0.1</td>\n",
       "      <td>0.2</td>\n",
       "      <td>-0.5</td>\n",
       "      <td>-1.1</td>\n",
       "      <td>-2.0</td>\n",
       "      <td>0.0</td>\n",
       "      <td>-1.7</td>\n",
       "      <td>1.5</td>\n",
       "      <td>-0.7</td>\n",
       "      <td>...</td>\n",
       "      <td>1.5</td>\n",
       "      <td>1.3</td>\n",
       "      <td>0.1</td>\n",
       "      <td>1.7</td>\n",
       "      <td>-0.4</td>\n",
       "      <td>2.7</td>\n",
       "      <td>-6.4</td>\n",
       "      <td>2.480935</td>\n",
       "      <td>2.343</td>\n",
       "      <td>1.61</td>\n",
       "    </tr>\n",
       "    <tr>\n",
       "      <th>301</th>\n",
       "      <td>0.1</td>\n",
       "      <td>0.2</td>\n",
       "      <td>-0.5</td>\n",
       "      <td>-1.1</td>\n",
       "      <td>-2.0</td>\n",
       "      <td>0.0</td>\n",
       "      <td>-1.7</td>\n",
       "      <td>1.5</td>\n",
       "      <td>-0.7</td>\n",
       "      <td>-1.9</td>\n",
       "      <td>...</td>\n",
       "      <td>1.3</td>\n",
       "      <td>0.1</td>\n",
       "      <td>1.7</td>\n",
       "      <td>-0.4</td>\n",
       "      <td>2.7</td>\n",
       "      <td>2.2</td>\n",
       "      <td>-8.5</td>\n",
       "      <td>2.480935</td>\n",
       "      <td>2.343</td>\n",
       "      <td>1.61</td>\n",
       "    </tr>\n",
       "    <tr>\n",
       "      <th>302</th>\n",
       "      <td>0.2</td>\n",
       "      <td>-0.5</td>\n",
       "      <td>-1.1</td>\n",
       "      <td>-2.0</td>\n",
       "      <td>0.0</td>\n",
       "      <td>-1.7</td>\n",
       "      <td>1.5</td>\n",
       "      <td>-0.7</td>\n",
       "      <td>-1.9</td>\n",
       "      <td>-0.2</td>\n",
       "      <td>...</td>\n",
       "      <td>0.1</td>\n",
       "      <td>1.7</td>\n",
       "      <td>-0.4</td>\n",
       "      <td>2.7</td>\n",
       "      <td>2.2</td>\n",
       "      <td>-1.0</td>\n",
       "      <td>-3.8</td>\n",
       "      <td>2.480935</td>\n",
       "      <td>2.343</td>\n",
       "      <td>1.61</td>\n",
       "    </tr>\n",
       "  </tbody>\n",
       "</table>\n",
       "<p>5 rows × 24 columns</p>\n",
       "</div>"
      ],
      "text/plain": [
       "      11   12   13   14   15   16   17   18   19   20  ...   25   26   27  \\\n",
       "298  0.4  0.8 -1.1  0.1  0.2 -0.5 -1.1 -2.0  0.0 -1.7  ...  1.2  1.6  1.5   \n",
       "299  0.8 -1.1  0.1  0.2 -0.5 -1.1 -2.0  0.0 -1.7  1.5  ...  1.6  1.5  1.3   \n",
       "300 -1.1  0.1  0.2 -0.5 -1.1 -2.0  0.0 -1.7  1.5 -0.7  ...  1.5  1.3  0.1   \n",
       "301  0.1  0.2 -0.5 -1.1 -2.0  0.0 -1.7  1.5 -0.7 -1.9  ...  1.3  0.1  1.7   \n",
       "302  0.2 -0.5 -1.1 -2.0  0.0 -1.7  1.5 -0.7 -1.9 -0.2  ...  0.1  1.7 -0.4   \n",
       "\n",
       "      28   29   30  begin  dow_open  euf_open  us_6mn  \n",
       "298  1.3  0.1  1.7    0.6  2.480935     2.343    1.61  \n",
       "299  0.1  1.7 -0.4   -2.2  2.480935     2.343    1.61  \n",
       "300  1.7 -0.4  2.7   -6.4  2.480935     2.343    1.61  \n",
       "301 -0.4  2.7  2.2   -8.5  2.480935     2.343    1.61  \n",
       "302  2.7  2.2 -1.0   -3.8  2.480935     2.343    1.61  \n",
       "\n",
       "[5 rows x 24 columns]"
      ]
     },
     "execution_count": 36,
     "metadata": {},
     "output_type": "execute_result"
    }
   ],
   "source": [
    "X_data = data.iloc[:,18:38]\n",
    "X_data['begin'] = data['begin']\n",
    "X_data['dow_open'] = data['dow_open']\n",
    "X_data['euf_open'] = data['euf_open']\n",
    "X_data['us_6mn'] = data['us_6mn']\n",
    "X_data.head()"
   ]
  },
  {
   "cell_type": "code",
   "execution_count": 37,
   "metadata": {},
   "outputs": [],
   "source": [
    "# Get X, y for model\n",
    "X = X_data.to_numpy()\n",
    "\n",
    "from sklearn.preprocessing import LabelEncoder\n",
    "from keras.utils import to_categorical\n",
    "y = data['labels']\n",
    "label_encoder = LabelEncoder()\n",
    "label_encoder.fit(y)\n",
    "y_encoded = label_encoder.transform(y)\n",
    "y = to_categorical(y_encoded)"
   ]
  },
  {
   "cell_type": "code",
   "execution_count": 38,
   "metadata": {},
   "outputs": [],
   "source": [
    "# Split data into training and test\n",
    "#from sklearn.model_selection import train_test_split\n",
    "#X_train, X_test, y_train, y_test = train_test_split(X, y, random_state=1, stratify=y)\n",
    "#X_train[0:1]"
   ]
  },
  {
   "cell_type": "code",
   "execution_count": 39,
   "metadata": {},
   "outputs": [
    {
     "name": "stdout",
     "output_type": "stream",
     "text": [
      "Model: \"sequential_2\"\n",
      "_________________________________________________________________\n",
      "Layer (type)                 Output Shape              Param #   \n",
      "=================================================================\n",
      "dense_6 (Dense)              (None, 100)               2500      \n",
      "_________________________________________________________________\n",
      "dense_7 (Dense)              (None, 100)               10100     \n",
      "_________________________________________________________________\n",
      "dense_8 (Dense)              (None, 3)                 303       \n",
      "=================================================================\n",
      "Total params: 12,903\n",
      "Trainable params: 12,903\n",
      "Non-trainable params: 0\n",
      "_________________________________________________________________\n"
     ]
    }
   ],
   "source": [
    "# Create model\n",
    "from tensorflow.keras.models import Sequential\n",
    "from tensorflow.keras.layers import Dense\n",
    "model = Sequential()\n",
    "model.add(Dense(units=100, activation='relu', input_dim=X.shape[1]))\n",
    "model.add(Dense(units=100, activation='relu'))\n",
    "model.add(Dense(units=y.shape[1], activation='softmax'))\n",
    "model.summary()\n",
    "\n",
    "model.compile(optimizer='adam', loss='categorical_crossentropy', metrics=['accuracy'])"
   ]
  },
  {
   "cell_type": "code",
   "execution_count": 40,
   "metadata": {},
   "outputs": [
    {
     "data": {
      "text/plain": [
       "<tensorflow.python.keras.callbacks.History at 0x1d207159550>"
      ]
     },
     "execution_count": 40,
     "metadata": {},
     "output_type": "execute_result"
    }
   ],
   "source": [
    "# Fit model\n",
    "model.fit(X, y, epochs=5, shuffle=True, verbose=0)"
   ]
  },
  {
   "cell_type": "code",
   "execution_count": 41,
   "metadata": {},
   "outputs": [
    {
     "name": "stdout",
     "output_type": "stream",
     "text": [
      "Normal Neural Network - Loss: 0.15805517490011928, Accuracy: 0.9624145030975342\n"
     ]
    }
   ],
   "source": [
    "# Model loss and Accuray\n",
    "model_loss, model_accuracy = model.evaluate(X, y, verbose=0)\n",
    "print(f\"Normal Neural Network - Loss: {model_loss}, Accuracy: {model_accuracy}\")"
   ]
  },
  {
   "cell_type": "code",
   "execution_count": 42,
   "metadata": {},
   "outputs": [
    {
     "data": {
      "text/plain": [
       "(15060, 24)"
      ]
     },
     "execution_count": 42,
     "metadata": {},
     "output_type": "execute_result"
    }
   ],
   "source": [
    "formodel = testdata.iloc[:,18:38]\n",
    "formodel['begin'] = testdata['begin']\n",
    "formodel['dow_open'] = testdata['dow_open']\n",
    "formodel['euf_open'] = testdata['euf_open']\n",
    "formodel['us_6mn'] = testdata['us_6mn']\n",
    "formodel = formodel.to_numpy()\n",
    "formodel.shape"
   ]
  },
  {
   "cell_type": "code",
   "execution_count": 43,
   "metadata": {},
   "outputs": [
    {
     "data": {
      "text/plain": [
       "count    15060.000000\n",
       "mean         0.139502\n",
       "std          6.265401\n",
       "min        -95.000000\n",
       "25%         -3.100000\n",
       "50%          0.200000\n",
       "75%          3.300000\n",
       "max         54.400000\n",
       "Name: sum10, dtype: float64"
      ]
     },
     "execution_count": 43,
     "metadata": {},
     "output_type": "execute_result"
    }
   ],
   "source": [
    "# Pull out validation data and make predicts\n",
    "testdata['class'] = label_encoder.inverse_transform(model.predict_classes(formodel))\n",
    "testdata[\"sum10\"].describe()"
   ]
  },
  {
   "cell_type": "code",
   "execution_count": 44,
   "metadata": {},
   "outputs": [
    {
     "data": {
      "text/plain": [
       "count    62.000000\n",
       "mean     -1.990323\n",
       "std      16.295989\n",
       "min     -95.000000\n",
       "25%      -8.050000\n",
       "50%       0.050000\n",
       "75%       6.350000\n",
       "max      20.900000\n",
       "Name: sum10, dtype: float64"
      ]
     },
     "execution_count": 44,
     "metadata": {},
     "output_type": "execute_result"
    }
   ],
   "source": [
    "testdata = testdata.drop(testdata[(testdata['class'] == 0)].index)\n",
    "testdata[\"sum10\"].describe()"
   ]
  },
  {
   "cell_type": "code",
   "execution_count": 45,
   "metadata": {},
   "outputs": [
    {
     "name": "stdout",
     "output_type": "stream",
     "text": [
      "Est Profit: -25.30000000000001\n"
     ]
    }
   ],
   "source": [
    "totalrows = testdata.shape[0]\n",
    "totalcols = testdata.shape[1]\n",
    "profit = []\n",
    "for i in range(totalrows):\n",
    "    temp = 0\n",
    "    for j in range(10):\n",
    "        temp += testdata.iloc[i,38+j]\n",
    "        if (testdata.iloc[i,totalcols-1] == -1):\n",
    "            if(temp < 2):\n",
    "              break  \n",
    "        else:\n",
    "            if(temp < -2):\n",
    "              break\n",
    "        \n",
    "    if (testdata.iloc[i,totalcols-1] == -1):\n",
    "        temp = -temp\n",
    "    profit.append(temp)\n",
    "\n",
    "print(\"Est Profit: \" + str(sum(profit)))"
   ]
  },
  {
   "cell_type": "code",
   "execution_count": 46,
   "metadata": {},
   "outputs": [
    {
     "name": "stdout",
     "output_type": "stream",
     "text": [
      "Est Profit: -41.19999999999999\n"
     ]
    }
   ],
   "source": [
    "totalrows = testdata.shape[0]\n",
    "profit = []\n",
    "for i in range(totalrows):\n",
    "    temp = testdata.iloc[i,totalcols-1] * testdata.iloc[i,totalcols-2]\n",
    "    profit.append(temp)\n",
    "\n",
    "print(\"Est Profit: \" + str(sum(profit)))"
   ]
  },
  {
   "cell_type": "code",
   "execution_count": 47,
   "metadata": {},
   "outputs": [
    {
     "name": "stdout",
     "output_type": "stream",
     "text": [
      "1 7.6000000000000005\n"
     ]
    }
   ],
   "source": [
    "j = 1\n",
    "print(str(testdata.iloc[j,totalcols-1]) + \" \" + str(testdata.iloc[j,totalcols-2]))"
   ]
  },
  {
   "cell_type": "code",
   "execution_count": 48,
   "metadata": {},
   "outputs": [],
   "source": [
    "#testdata.to_csv('updated.csv')"
   ]
  }
 ],
 "metadata": {
  "kernelspec": {
   "display_name": "Python 36 (PythonData)",
   "language": "python",
   "name": "pythondata"
  },
  "language_info": {
   "codemirror_mode": {
    "name": "ipython",
    "version": 3
   },
   "file_extension": ".py",
   "mimetype": "text/x-python",
   "name": "python",
   "nbconvert_exporter": "python",
   "pygments_lexer": "ipython3",
   "version": "3.6.8"
  }
 },
 "nbformat": 4,
 "nbformat_minor": 2
}
