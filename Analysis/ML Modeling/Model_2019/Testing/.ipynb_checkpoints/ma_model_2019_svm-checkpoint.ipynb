{
 "cells": [
  {
   "cell_type": "code",
   "execution_count": 1,
   "metadata": {},
   "outputs": [],
   "source": [
    "# load dependencies\n",
    "import matplotlib.pyplot as plt\n",
    "import numpy as np\n",
    "import pandas as pd\n",
    "from sklearn.preprocessing import LabelEncoder\n",
    "from sklearn.svm import SVC\n",
    "\n",
    "import random\n",
    "from datetime import datetime"
   ]
  },
  {
   "cell_type": "code",
   "execution_count": 10,
   "metadata": {},
   "outputs": [],
   "source": [
    "def SVM(d,f,e):\n",
    "    #np.random.seed(my_seed)\n",
    "    #random.seed(my_seed)\n",
    "    \n",
    "    model = SVC(kernel='poly',gamma='auto',C=e)\n",
    "    model.fit(d, f)\n",
    "    return model"
   ]
  },
  {
   "cell_type": "code",
   "execution_count": 3,
   "metadata": {},
   "outputs": [],
   "source": [
    "# read data\n",
    "df = pd.read_csv('../Data/combined_2019.csv')\n",
    "del df['sentiment']\n",
    "begin_drop = 91\n",
    "end_drop = 101\n",
    "begin = 67\n",
    "end = 91"
   ]
  },
  {
   "cell_type": "code",
   "execution_count": 4,
   "metadata": {},
   "outputs": [],
   "source": [
    "# create moving averages\n",
    "for i in range(31):\n",
    "    colname = 'ma' + str(i+1)\n",
    "    df[colname] = df.iloc[:,(i+8):(i+18)].sum(axis=1)\n",
    "\n",
    "df.drop(df.columns[begin_drop:end_drop], axis=1, inplace=True)"
   ]
  },
  {
   "cell_type": "code",
   "execution_count": 5,
   "metadata": {},
   "outputs": [],
   "source": [
    "# Select trainging hour and test hour\n",
    "data = df[df['hour'].isin([6,7,8])]\n",
    "del df"
   ]
  },
  {
   "cell_type": "code",
   "execution_count": 6,
   "metadata": {
    "scrolled": false
   },
   "outputs": [],
   "source": [
    "# Categorize the 'sum' column the number of PIPs over selected range\n",
    "def setlabels(x):\n",
    "    if x < -5:\n",
    "        return -1\n",
    "    elif x > 5:\n",
    "        return 1\n",
    "    else:\n",
    "        return 0\n",
    "\n",
    "data[\"labels\"] = data[\"ma31\"].apply(setlabels)"
   ]
  },
  {
   "cell_type": "code",
   "execution_count": 17,
   "metadata": {
    "scrolled": false
   },
   "outputs": [
    {
     "name": "stdout",
     "output_type": "stream",
     "text": [
      "Profit for Sim 0.025 : 250.30000000000035 time 09:05:57\n",
      "Profit for Sim 0.05 : 274.5999999999999 time 09:06:58\n",
      "Profit for Sim 0.07500000000000001 : 292.6999999999996 time 09:07:39\n",
      "Profit for Sim 0.1 : 407.7 time 09:08:18\n",
      "Profit for Sim 0.125 : 356.5999999999997 time 09:08:59\n",
      "Profit for Sim 0.15000000000000002 : 236.19999999999976 time 09:09:38\n",
      "Profit for Sim 0.17500000000000002 : 176.79999999999995 time 09:10:15\n",
      "Profit for Sim 0.2 : 199.5999999999998 time 09:10:53\n",
      "Profit for Sim 0.225 : 219.8000000000001 time 09:11:30\n",
      "Profit for Sim 0.25 : 308.29999999999984 time 09:12:08\n",
      "Total Sum  : 2722.599999999999\n"
     ]
    }
   ],
   "source": [
    "sims = []\n",
    "for k in range(10):\n",
    "    \n",
    "    profit_tot =[]\n",
    "    train_int = 1000\n",
    "    predict_int = 500\n",
    "    count = int((data.shape[0] - train_int) / predict_int)\n",
    "\n",
    "    df_predict = pd.DataFrame()\n",
    "\n",
    "    for j in range(count):\n",
    "\n",
    "        start = predict_int * j\n",
    "\n",
    "        # Get fitting data\n",
    "        X_data = data.iloc[start:start + train_int].copy()\n",
    "        X = X_data.iloc[:,begin:end].to_numpy()\n",
    "        y = data['labels'].iloc[start:start+train_int]\n",
    "        le = LabelEncoder()\n",
    "        le.fit(y)\n",
    "        y_encoded = le.transform(y)\n",
    "\n",
    "        svm = SVM(X, y_encoded, 0.25 + 0.025 * (k+1))\n",
    "\n",
    "        del X_data, X, y, y_encoded\n",
    "        #X = None\n",
    "        #y = None\n",
    "        #y_encoded = None\n",
    "        \n",
    "        # Get predicting data\n",
    "        X_pred = data.iloc[start + train_int + 100:start + train_int + predict_int + 100].copy()\n",
    "        X_predict = X_pred.iloc[:,begin:end].to_numpy()\n",
    "        X_pred['class'] = le.inverse_transform(svm.predict(X_predict))\n",
    "        X_pred = X_pred.drop(X_pred[(X_pred['class'] == 0)].index)\n",
    "        X_pred['profit'] = X_pred['class'] * X_pred['ma31']\n",
    "        profit = X_pred['profit'].sum()\n",
    "        #print(\"Est Profit Cohort \" + str(j) + \": \" + str(profit))\n",
    "        profit_tot.append(profit)\n",
    "        X_pred = None\n",
    "        X_predict = None\n",
    "            \n",
    "    now = datetime.now()    \n",
    "    print(\"Profit for Sim \" + str(0.025 * (k+1)) + \" : \" + str(sum(profit_tot)) + \" time \" + now.strftime(\"%H:%M:%S\"))\n",
    "    sims.append(sum(profit_tot))\n",
    "    \n",
    "print(\"Total Sum \" + \" : \" + str(sum(sims)))"
   ]
  },
  {
   "cell_type": "code",
   "execution_count": null,
   "metadata": {},
   "outputs": [],
   "source": [
    "df_sims = pd.DataFrame(sims)\n",
    "df_sims.to_csv('2019_predict_sims.csv')"
   ]
  },
  {
   "cell_type": "code",
   "execution_count": null,
   "metadata": {},
   "outputs": [],
   "source": []
  }
 ],
 "metadata": {
  "kernelspec": {
   "display_name": "Python 36 (PythonData)",
   "language": "python",
   "name": "pythondata"
  },
  "language_info": {
   "codemirror_mode": {
    "name": "ipython",
    "version": 3
   },
   "file_extension": ".py",
   "mimetype": "text/x-python",
   "name": "python",
   "nbconvert_exporter": "python",
   "pygments_lexer": "ipython3",
   "version": "3.6.8"
  }
 },
 "nbformat": 4,
 "nbformat_minor": 2
}
