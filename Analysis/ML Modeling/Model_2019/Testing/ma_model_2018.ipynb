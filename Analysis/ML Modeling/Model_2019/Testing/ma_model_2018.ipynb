{
 "cells": [
  {
   "cell_type": "code",
   "execution_count": 1,
   "metadata": {},
   "outputs": [
    {
     "name": "stderr",
     "output_type": "stream",
     "text": [
      "Using TensorFlow backend.\n"
     ]
    }
   ],
   "source": [
    "# load dependencies\n",
    "import matplotlib.pyplot as plt\n",
    "import numpy as np\n",
    "import pandas as pd\n",
    "from sklearn.preprocessing import LabelEncoder\n",
    "from keras.utils import to_categorical\n",
    "from tensorflow.keras.models import Sequential\n",
    "from tensorflow.keras.layers import Dense\n",
    "\n",
    "import random\n",
    "import tensorflow as tf"
   ]
  },
  {
   "cell_type": "code",
   "execution_count": 2,
   "metadata": {},
   "outputs": [],
   "source": [
    "def CNN(d,f,e):\n",
    "    \n",
    "    my_seed = 12345\n",
    "    np.random.seed(my_seed)\n",
    "    random.seed(my_seed)\n",
    "    tf.random.set_seed(my_seed)\n",
    "\n",
    "    y = to_categorical(f)\n",
    "    \n",
    "    model = Sequential()\n",
    "    model.add(Dense(units=50, activation='relu', input_dim=d.shape[1]))\n",
    "    model.add(Dense(units=50, activation='relu'))\n",
    "    model.add(Dense(units=y.shape[1], activation='softmax'))\n",
    "    model.compile(optimizer='adam', loss='categorical_crossentropy', metrics=['accuracy'])\n",
    "    model.fit(d, y, epochs=e, shuffle=True, verbose=0)\n",
    "    return model"
   ]
  },
  {
   "cell_type": "code",
   "execution_count": 3,
   "metadata": {},
   "outputs": [],
   "source": [
    "# read data\n",
    "df = pd.read_csv('../Data/combined_2018.csv')"
   ]
  },
  {
   "cell_type": "code",
   "execution_count": 4,
   "metadata": {},
   "outputs": [],
   "source": [
    "# create moving averages\n",
    "for i in range(31):\n",
    "    colname = 'ma' + str(i+1)\n",
    "    df[colname] = df.iloc[:,(i+8):(i+18)].sum(axis=1)\n",
    "\n",
    "df.drop(df.columns[91:101], axis=1, inplace=True)"
   ]
  },
  {
   "cell_type": "code",
   "execution_count": 5,
   "metadata": {},
   "outputs": [],
   "source": [
    "# Select trainging hour and test hour\n",
    "data = df[df['hour'].isin([6,7,8])]\n",
    "del df"
   ]
  },
  {
   "cell_type": "code",
   "execution_count": 6,
   "metadata": {
    "scrolled": false
   },
   "outputs": [
    {
     "data": {
      "text/plain": [
       "(45177, 93)"
      ]
     },
     "execution_count": 6,
     "metadata": {},
     "output_type": "execute_result"
    }
   ],
   "source": [
    "# Categorize the 'sum' column the number of PIPs over selected range\n",
    "def setlabels(x):\n",
    "    if x < -10:\n",
    "        return -1\n",
    "    elif x > 10:\n",
    "        return 1\n",
    "    else:\n",
    "        return 0\n",
    "\n",
    "data[\"labels\"] = data[\"ma31\"].apply(setlabels)\n",
    "data.shape"
   ]
  },
  {
   "cell_type": "code",
   "execution_count": 7,
   "metadata": {
    "scrolled": false
   },
   "outputs": [
    {
     "name": "stdout",
     "output_type": "stream",
     "text": [
      "Total Profit  : -133.5\n"
     ]
    }
   ],
   "source": [
    "df_predict = pd.DataFrame()\n",
    "profit_tot =[]\n",
    "\n",
    "for j in range(42):\n",
    "    \n",
    "    start = 1000 * j\n",
    "\n",
    "    # Get fitting data\n",
    "    X_data = data.iloc[start:start + 3000].copy()\n",
    "    X = X_data.iloc[:,67:91].to_numpy()\n",
    "    y = data['labels'].iloc[start:start+3000]\n",
    "    le = LabelEncoder()\n",
    "    le.fit(y)\n",
    "    y_encoded = le.transform(y)\n",
    "\n",
    "    cnn = CNN(X, y_encoded, 1)\n",
    "\n",
    "    # Get predicting data\n",
    "    X_pred = data.iloc[start + 3100:start + 4100].copy()\n",
    "    X_predict = X_pred.iloc[:,67:91].to_numpy()\n",
    "    X_pred['class'] = le.inverse_transform(cnn.predict_classes(X_predict))\n",
    "    X_pred = X_pred.drop(X_pred[(X_pred['class'] == 0)].index)\n",
    "    df_predict = df_predict.append(X_pred)\n",
    "    \n",
    "    totalrows = X_pred.shape[0]\n",
    "    totalcols = X_pred.shape[1]\n",
    "    profit = []\n",
    "    for i in range(totalrows):\n",
    "        temp = X_pred.iloc[i,totalcols-1] * X_pred.iloc[i]['ma31']\n",
    "        profit.append(temp)\n",
    "    #print(\"Est Profit Cohort \" + str(j) + \": \" + str(sum(profit)))\n",
    "    profit_tot.append(sum(profit))\n",
    "\n",
    "print(\"Total Profit \" + \" : \" + str(sum(profit_tot)))"
   ]
  },
  {
   "cell_type": "code",
   "execution_count": 8,
   "metadata": {},
   "outputs": [],
   "source": [
    "df_predict.to_csv('2018_predict.csv')"
   ]
  },
  {
   "cell_type": "code",
   "execution_count": null,
   "metadata": {},
   "outputs": [],
   "source": []
  }
 ],
 "metadata": {
  "kernelspec": {
   "display_name": "Python 36 (PythonData)",
   "language": "python",
   "name": "pythondata"
  },
  "language_info": {
   "codemirror_mode": {
    "name": "ipython",
    "version": 3
   },
   "file_extension": ".py",
   "mimetype": "text/x-python",
   "name": "python",
   "nbconvert_exporter": "python",
   "pygments_lexer": "ipython3",
   "version": "3.6.8"
  }
 },
 "nbformat": 4,
 "nbformat_minor": 2
}
