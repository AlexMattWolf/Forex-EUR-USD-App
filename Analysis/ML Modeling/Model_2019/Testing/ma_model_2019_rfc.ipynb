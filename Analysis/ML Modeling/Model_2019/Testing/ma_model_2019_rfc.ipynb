{
 "cells": [
  {
   "cell_type": "code",
   "execution_count": 1,
   "metadata": {},
   "outputs": [],
   "source": [
    "# load dependencies\n",
    "import matplotlib.pyplot as plt\n",
    "import numpy as np\n",
    "import pandas as pd\n",
    "from sklearn.preprocessing import LabelEncoder\n",
    "from sklearn.ensemble import RandomForestClassifier\n",
    "\n",
    "import random\n",
    "from datetime import datetime"
   ]
  },
  {
   "cell_type": "code",
   "execution_count": 2,
   "metadata": {},
   "outputs": [],
   "source": [
    "def RFC(d,f):\n",
    "    #np.random.seed(my_seed)\n",
    "    #random.seed(my_seed)\n",
    "    \n",
    "    model = RandomForestClassifier(n_estimators=50)\n",
    "    model.fit(d, f)\n",
    "    return model"
   ]
  },
  {
   "cell_type": "code",
   "execution_count": 4,
   "metadata": {},
   "outputs": [],
   "source": [
    "# read data\n",
    "df = pd.read_csv('../Data/combined_2019.csv')\n",
    "del df['sentiment']\n",
    "begin_drop = 91\n",
    "end_drop = 101\n",
    "begin = 67\n",
    "end = 91"
   ]
  },
  {
   "cell_type": "code",
   "execution_count": 5,
   "metadata": {},
   "outputs": [],
   "source": [
    "# create moving averages\n",
    "for i in range(31):\n",
    "    colname = 'ma' + str(i+1)\n",
    "    df[colname] = df.iloc[:,(i+8):(i+18)].sum(axis=1)\n",
    "\n",
    "df.drop(df.columns[begin_drop:end_drop], axis=1, inplace=True)"
   ]
  },
  {
   "cell_type": "code",
   "execution_count": 6,
   "metadata": {},
   "outputs": [],
   "source": [
    "# Select trainging hour and test hour\n",
    "data = df[df['hour'].isin([6,7,8])]\n",
    "del df"
   ]
  },
  {
   "cell_type": "code",
   "execution_count": 7,
   "metadata": {
    "scrolled": false
   },
   "outputs": [],
   "source": [
    "# Categorize the 'sum' column the number of PIPs over selected range\n",
    "def setlabels(x):\n",
    "    if x < -5:\n",
    "        return -1\n",
    "    elif x > 5:\n",
    "        return 1\n",
    "    else:\n",
    "        return 0\n",
    "\n",
    "data[\"labels\"] = data[\"ma31\"].apply(setlabels)"
   ]
  },
  {
   "cell_type": "code",
   "execution_count": 10,
   "metadata": {
    "scrolled": false
   },
   "outputs": [
    {
     "name": "stdout",
     "output_type": "stream",
     "text": [
      "Profit for Sim 0 : -333.6999999999999 time 08:40:44\n",
      "Profit for Sim 1 : -428.7000000000001 time 08:40:55\n",
      "Profit for Sim 2 : -512.8 time 08:41:07\n",
      "Profit for Sim 3 : -368.0999999999999 time 08:41:18\n",
      "Profit for Sim 4 : -384.1999999999998 time 08:41:29\n",
      "Profit for Sim 5 : -561.6999999999998 time 08:41:39\n",
      "Profit for Sim 6 : -305.00000000000006 time 08:41:50\n",
      "Profit for Sim 7 : -253.6 time 08:42:02\n",
      "Profit for Sim 8 : -479.0 time 08:42:13\n",
      "Profit for Sim 9 : -427.2000000000001 time 08:42:24\n",
      "Total Sum  : -4053.9999999999995\n"
     ]
    }
   ],
   "source": [
    "sims = []\n",
    "for k in range(10):\n",
    "    \n",
    "    profit_tot =[]\n",
    "    train_int = 1000\n",
    "    predict_int = 500\n",
    "    count = int((data.shape[0] - train_int) / predict_int)\n",
    "\n",
    "    df_predict = pd.DataFrame()\n",
    "\n",
    "    for j in range(count):\n",
    "\n",
    "        start = predict_int * j\n",
    "\n",
    "        # Get fitting data\n",
    "        X_data = data.iloc[start:start + train_int].copy()\n",
    "        X = X_data.iloc[:,begin:end].to_numpy()\n",
    "        y = data['labels'].iloc[start:start+train_int]\n",
    "        le = LabelEncoder()\n",
    "        le.fit(y)\n",
    "        y_encoded = le.transform(y)\n",
    "\n",
    "        rfc = RFC(X, y_encoded)\n",
    "\n",
    "        del X_data, X, y, y_encoded\n",
    "        #X = None\n",
    "        #y = None\n",
    "        #y_encoded = None\n",
    "        \n",
    "        # Get predicting data\n",
    "        X_pred = data.iloc[start + train_int + 100:start + train_int + predict_int + 100].copy()\n",
    "        X_predict = X_pred.iloc[:,begin:end].to_numpy()\n",
    "        X_pred['class'] = le.inverse_transform(rfc.predict(X_predict))\n",
    "        X_pred = X_pred.drop(X_pred[(X_pred['class'] == 0)].index)\n",
    "        X_pred['profit'] = X_pred['class'] * X_pred['ma31']\n",
    "        profit = X_pred['profit'].sum()\n",
    "        #print(\"Est Profit Cohort \" + str(j) + \": \" + str(profit))\n",
    "        profit_tot.append(profit)\n",
    "        X_pred = None\n",
    "        X_predict = None\n",
    "            \n",
    "    now = datetime.now()    \n",
    "    print(\"Profit for Sim \" + str(k) + \" : \" + str(sum(profit_tot)) + \" time \" + now.strftime(\"%H:%M:%S\"))\n",
    "    sims.append(sum(profit_tot))\n",
    "    \n",
    "print(\"Total Sum \" + \" : \" + str(sum(sims)))"
   ]
  },
  {
   "cell_type": "code",
   "execution_count": null,
   "metadata": {},
   "outputs": [],
   "source": [
    "df_sims = pd.DataFrame(sims)\n",
    "df_sims.to_csv('2019_predict_sims.csv')"
   ]
  },
  {
   "cell_type": "code",
   "execution_count": null,
   "metadata": {},
   "outputs": [],
   "source": []
  }
 ],
 "metadata": {
  "kernelspec": {
   "display_name": "Python 36 (PythonData)",
   "language": "python",
   "name": "pythondata"
  },
  "language_info": {
   "codemirror_mode": {
    "name": "ipython",
    "version": 3
   },
   "file_extension": ".py",
   "mimetype": "text/x-python",
   "name": "python",
   "nbconvert_exporter": "python",
   "pygments_lexer": "ipython3",
   "version": "3.6.8"
  }
 },
 "nbformat": 4,
 "nbformat_minor": 2
}
