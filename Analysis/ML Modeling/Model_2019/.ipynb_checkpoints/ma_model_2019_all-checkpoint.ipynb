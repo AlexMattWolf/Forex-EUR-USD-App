{
 "cells": [
  {
   "cell_type": "code",
   "execution_count": null,
   "metadata": {},
   "outputs": [],
   "source": [
    "# load dependencies\n",
    "import matplotlib.pyplot as plt\n",
    "import numpy as np\n",
    "import pandas as pd\n",
    "from sklearn.preprocessing import LabelEncoder\n",
    "from keras.utils import to_categorical\n",
    "from tensorflow.keras.models import Sequential\n",
    "from tensorflow.keras.layers import Dense\n",
    "\n",
    "import random\n",
    "import tensorflow as tf"
   ]
  },
  {
   "cell_type": "code",
   "execution_count": null,
   "metadata": {},
   "outputs": [],
   "source": [
    "def CNN(d,f,e, my_seed):\n",
    "    np.random.seed(my_seed)\n",
    "    random.seed(my_seed)\n",
    "    tf.random.set_seed(my_seed)\n",
    "\n",
    "    y = to_categorical(f)\n",
    "    \n",
    "    model = Sequential()\n",
    "    model.add(Dense(units=50, activation='relu', input_dim=d.shape[1]))\n",
    "    model.add(Dense(units=50, activation='relu'))\n",
    "    model.add(Dense(units=y.shape[1], activation='softmax'))\n",
    "    model.compile(optimizer='adam', loss='categorical_crossentropy', metrics=['accuracy'])\n",
    "    model.fit(d, y, epochs=e, shuffle=True, verbose=0)\n",
    "    return model"
   ]
  },
  {
   "cell_type": "code",
   "execution_count": null,
   "metadata": {},
   "outputs": [],
   "source": [
    "# read data\n",
    "df = pd.read_csv('Data/combined_2019.csv')\n",
    "del df['sentiment']\n",
    "begin_drop = 91\n",
    "end_drop = 101\n",
    "begin = 67\n",
    "end = 91"
   ]
  },
  {
   "cell_type": "code",
   "execution_count": null,
   "metadata": {},
   "outputs": [],
   "source": [
    "# create moving averages\n",
    "for i in range(31):\n",
    "    colname = 'ma' + str(i+1)\n",
    "    df[colname] = df.iloc[:,(i+8):(i+18)].sum(axis=1)\n",
    "\n",
    "df.drop(df.columns[begin_drop:end_drop], axis=1, inplace=True)"
   ]
  },
  {
   "cell_type": "code",
   "execution_count": null,
   "metadata": {},
   "outputs": [],
   "source": [
    "# Select trainging hour and test hour\n",
    "data = df[df['hour'].isin([5,6,7,8,9])]\n",
    "del df"
   ]
  },
  {
   "cell_type": "code",
   "execution_count": null,
   "metadata": {
    "scrolled": false
   },
   "outputs": [],
   "source": [
    "# Categorize the 'sum' column the number of PIPs over selected range\n",
    "def setlabels(x):\n",
    "    if x < -10:\n",
    "        return -1\n",
    "    elif x > 10:\n",
    "        return 1\n",
    "    else:\n",
    "        return 0\n",
    "\n",
    "data[\"labels\"] = data[\"ma31\"].apply(setlabels)\n",
    "data.shape"
   ]
  },
  {
   "cell_type": "code",
   "execution_count": null,
   "metadata": {
    "scrolled": false
   },
   "outputs": [],
   "source": [
    "df_predict = pd.DataFrame()\n",
    "profit_tot =[]\n",
    "train_int = 3000\n",
    "predict_int = 500\n",
    "count = int((data.shape[0] - train_int) / predict_int)\n",
    "\n",
    "for j in range(count):\n",
    "    \n",
    "    start = predict_int * j\n",
    "\n",
    "    # Get fitting data\n",
    "    X_data = data.iloc[start:start + train_int].copy()\n",
    "    X = X_data.iloc[:,begin:end].to_numpy()\n",
    "    y = data['labels'].iloc[start:start+train_int]\n",
    "    le = LabelEncoder()\n",
    "    le.fit(y)\n",
    "    y_encoded = le.transform(y)\n",
    "\n",
    "    cnn = CNN(X, y_encoded, 1, 49)\n",
    "\n",
    "    # Get predicting data\n",
    "    X_pred = data.iloc[start + train_int + 100:start + train_int + predict_int + 100].copy()\n",
    "    X_predict = X_pred.iloc[:,begin:end].to_numpy()\n",
    "    X_pred['class'] = le.inverse_transform(cnn.predict_classes(X_predict))\n",
    "    #X_pred = X_pred.drop(X_pred[(X_pred['class'] == 0)].index)\n",
    "    df_predict = df_predict.append(X_pred)\n",
    "    X_pred['profit'] = X_pred['class'] * X_pred['ma31']\n",
    "    print(\"Est Profit Cohort \" + str(j) + \": \" + str(X_pred['profit'].sum()))\n",
    "    profit_tot.append(X_pred['profit'].sum())\n",
    "\n",
    "print(\"Total Profit \" + \" : \" + str(sum(profit_tot)))"
   ]
  },
  {
   "cell_type": "code",
   "execution_count": null,
   "metadata": {},
   "outputs": [],
   "source": [
    "df_predict.to_csv('2019_predict_all.csv')"
   ]
  },
  {
   "cell_type": "code",
   "execution_count": null,
   "metadata": {},
   "outputs": [],
   "source": []
  }
 ],
 "metadata": {
  "kernelspec": {
   "display_name": "Python 36 (PythonData)",
   "language": "python",
   "name": "pythondata"
  },
  "language_info": {
   "codemirror_mode": {
    "name": "ipython",
    "version": 3
   },
   "file_extension": ".py",
   "mimetype": "text/x-python",
   "name": "python",
   "nbconvert_exporter": "python",
   "pygments_lexer": "ipython3",
   "version": "3.6.8"
  }
 },
 "nbformat": 4,
 "nbformat_minor": 2
}
